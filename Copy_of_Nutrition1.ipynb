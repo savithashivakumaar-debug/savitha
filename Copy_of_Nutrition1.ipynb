{
  "cells": [
    {
      "cell_type": "markdown",
      "metadata": {
        "id": "view-in-github",
        "colab_type": "text"
      },
      "source": [
        "<a href=\"https://colab.research.google.com/github/savithashivakumaar-debug/savitha/blob/main/Copy_of_Nutrition1.ipynb\" target=\"_parent\"><img src=\"https://colab.research.google.com/assets/colab-badge.svg\" alt=\"Open In Colab\"/></a>"
      ]
    },
    {
      "cell_type": "markdown",
      "source": [
        "### Nutrition Paradox: A Global View on Obesity and Malnutrition"
      ],
      "metadata": {
        "id": "dcmEh0NYDDQI"
      }
    },
    {
      "cell_type": "markdown",
      "metadata": {
        "id": "IvaxbjMObueh"
      },
      "source": [
        "### Step 1:Dataset Overview & Collection"
      ]
    },
    {
      "cell_type": "code",
      "source": [
        "from google.colab import drive\n",
        "drive.mount('/content/drive')"
      ],
      "metadata": {
        "id": "6_XfIc96EIqf"
      },
      "execution_count": null,
      "outputs": []
    },
    {
      "cell_type": "markdown",
      "metadata": {
        "id": "SmJMf_M9pENx"
      },
      "source": [
        "For Obesity:"
      ]
    },
    {
      "cell_type": "code",
      "execution_count": null,
      "metadata": {
        "id": "W5qmEDdbfLHG"
      },
      "outputs": [],
      "source": [
        "url = \"https://ghoapi.azureedge.net/api/NCD_BMI_30C\"  #adults\n",
        "\n",
        "import requests\n",
        "\n",
        "response = requests.get(url)\n",
        "\n",
        "data = response.json()\n",
        "\n",
        "data"
      ]
    },
    {
      "cell_type": "code",
      "execution_count": null,
      "metadata": {
        "id": "e6eTE8B3hR9X"
      },
      "outputs": [],
      "source": [
        "data.keys()"
      ]
    },
    {
      "cell_type": "code",
      "execution_count": null,
      "metadata": {
        "id": "64ZyZa2GhXgG"
      },
      "outputs": [],
      "source": [
        "import pandas as pd\n",
        "df1 = pd.DataFrame(data['value'])\n",
        "df1.head()"
      ]
    },
    {
      "cell_type": "code",
      "execution_count": null,
      "metadata": {
        "id": "0qQNoOBphvf5"
      },
      "outputs": [],
      "source": [
        "df1.shape"
      ]
    },
    {
      "cell_type": "markdown",
      "metadata": {
        "id": "eZ5m54lGctXX"
      },
      "source": [
        "# Add a new column age_group to distinguish adults and children."
      ]
    },
    {
      "cell_type": "code",
      "execution_count": null,
      "metadata": {
        "id": "O9M172-Jh0KF"
      },
      "outputs": [],
      "source": [
        "df1[\"age_group\"] = \"adults\""
      ]
    },
    {
      "cell_type": "code",
      "execution_count": null,
      "metadata": {
        "id": "XMeVCDJUQIwD"
      },
      "outputs": [],
      "source": [
        "df1.head()"
      ]
    },
    {
      "cell_type": "code",
      "execution_count": null,
      "metadata": {
        "id": "vZp4Xt34MDBh"
      },
      "outputs": [],
      "source": [
        "df1.columns"
      ]
    },
    {
      "cell_type": "markdown",
      "metadata": {
        "id": "BnBvhXG_tWxy"
      },
      "source": [
        "### children"
      ]
    },
    {
      "cell_type": "code",
      "execution_count": null,
      "metadata": {
        "id": "KXAqyyWkiQS6"
      },
      "outputs": [],
      "source": [
        "url = \"https://ghoapi.azureedge.net/api/NCD_BMI_PLUS2C\"    #children\n",
        "\n",
        "import requests\n",
        "\n",
        "response = requests.get(url)\n",
        "\n",
        "data = response.json()\n",
        "\n",
        "data"
      ]
    },
    {
      "cell_type": "code",
      "execution_count": null,
      "metadata": {
        "id": "lkvZ8ddDiyUL"
      },
      "outputs": [],
      "source": [
        "data.keys()"
      ]
    },
    {
      "cell_type": "code",
      "execution_count": null,
      "metadata": {
        "id": "rbMZojmzjtHI"
      },
      "outputs": [],
      "source": [
        "import pandas as pd\n",
        "df2 = pd.DataFrame(data['value'])\n",
        "df2.head()"
      ]
    },
    {
      "cell_type": "code",
      "execution_count": null,
      "metadata": {
        "id": "E1CCMBAgkhMe"
      },
      "outputs": [],
      "source": [
        "df2.shape"
      ]
    },
    {
      "cell_type": "code",
      "execution_count": null,
      "metadata": {
        "id": "CjhZrrU5kxc3"
      },
      "outputs": [],
      "source": [
        "df2[\"age_group\"] = \"children\""
      ]
    },
    {
      "cell_type": "code",
      "execution_count": null,
      "metadata": {
        "id": "Ume_63i5Qi0D"
      },
      "outputs": [],
      "source": [
        "df2.head()"
      ]
    },
    {
      "cell_type": "code",
      "execution_count": null,
      "metadata": {
        "id": "LEGDMM0fdkFm"
      },
      "outputs": [],
      "source": [
        "df2.columns"
      ]
    },
    {
      "cell_type": "markdown",
      "metadata": {
        "id": "xr_WSkt5LEAU"
      },
      "source": [
        "### Combine the two obesity datasets into one dataframe called df_obesity."
      ]
    },
    {
      "cell_type": "code",
      "execution_count": null,
      "metadata": {
        "id": "6e6xJpAzJKFb"
      },
      "outputs": [],
      "source": [
        "import pandas as pd\n",
        "\n",
        "# Step 1: Use the existing dataframes df1 and df2\n",
        "# df1 = pd.read_csv('obesity_data1.csv')\n",
        "# df2 = pd.read_csv('obesity_data2.csv')\n",
        "\n",
        "# Step 2: Combine (merge or concatenate) them into one dataframe\n",
        "df_obesity = pd.concat([df1, df2], ignore_index=True)\n",
        "\n",
        "# Step 3: Display the combined dataframe\n",
        "print(df_obesity.head())"
      ]
    },
    {
      "cell_type": "markdown",
      "metadata": {
        "id": "ZyEAXp2TJvte"
      },
      "source": [
        "### Filter each dataset to include only records from the years 2012 to 2022"
      ]
    },
    {
      "cell_type": "code",
      "execution_count": null,
      "metadata": {
        "id": "XgTCR72jKNxA"
      },
      "outputs": [],
      "source": [
        "# Filter df1 for years 2012–2022\n",
        "df1_filtered = df1[(df1['TimeDim'] >= 2012) & (df1['TimeDim'] <= 2022)]\n",
        "\n",
        "# Filter df2 for years 2012–2022\n",
        "df2_filtered = df2[(df2['TimeDim'] >= 2012) & (df2['TimeDim'] <= 2022)]\n"
      ]
    },
    {
      "cell_type": "code",
      "execution_count": null,
      "metadata": {
        "id": "FOAulkgbKTNW"
      },
      "outputs": [],
      "source": [
        "import pandas as pd\n",
        "\n",
        "# Combine the filtered datasets\n",
        "df_obesity = pd.concat([df1_filtered, df2_filtered], ignore_index=True)\n",
        "\n",
        "# Optional: check\n",
        "print(df_obesity['TimeDim'].min(), df_obesity['TimeDim'].max())  # Should show 2012 and 2022\n",
        "print(df_obesity.shape)  # Number of rows and columns\n"
      ]
    },
    {
      "cell_type": "markdown",
      "metadata": {
        "id": "h0ZBTVSNK7FU"
      },
      "source": [
        "# Step 2: 🧹 Data Cleaning & Feature Engineering"
      ]
    },
    {
      "cell_type": "code",
      "execution_count": null,
      "metadata": {
        "id": "ijZeb8OvdJB4"
      },
      "outputs": [],
      "source": [
        "import pandas as pd\n",
        "\n",
        "columns_needed = [\n",
        "    \"ParentLocation\",\n",
        "    \"Dim1\",\n",
        "    \"TimeDim\",\n",
        "    \"Low\",\n",
        "    \"High\",\n",
        "    \"NumericValue\",\n",
        "    \"SpatialDim\",\n",
        "    \"age_group\"\n",
        "]\n",
        "\n",
        "df2_filtered = df2[columns_needed]\n",
        "\n",
        "print(df2_filtered.head())\n"
      ]
    },
    {
      "cell_type": "markdown",
      "metadata": {
        "id": "SglrF9qWxzUZ"
      },
      "source": [
        "### Columns to Retain:"
      ]
    },
    {
      "cell_type": "code",
      "execution_count": null,
      "metadata": {
        "id": "2LEczIYofnRH"
      },
      "outputs": [],
      "source": [
        "import pandas as pd\n",
        "\n",
        "columns_needed = [\n",
        "    \"ParentLocation\",\n",
        "    \"Dim1\",\n",
        "    \"TimeDim\",\n",
        "    \"Low\",\n",
        "    \"High\",\n",
        "    \"NumericValue\",\n",
        "    \"SpatialDim\",\n",
        "    \"age_group\"\n",
        "]\n",
        "\n",
        "# Filter columns\n",
        "df1_filtered = df1[columns_needed]\n",
        "df2_filtered = df2[columns_needed]\n",
        "\n",
        "# Keep only rows where TimeDim is between 2012 and 2022\n",
        "df1_filtered = df1_filtered[(df1_filtered[\"TimeDim\"] >= 2012) & (df1_filtered[\"TimeDim\"] <= 2022)]\n",
        "df2_filtered = df2_filtered[(df2_filtered[\"TimeDim\"] >= 2012) & (df2_filtered[\"TimeDim\"] <= 2022)]\n",
        "\n",
        "# Combine into one dataframe\n",
        "df_obesity = pd.concat([df1_filtered, df2_filtered], ignore_index=True)\n",
        "\n",
        "print(df_obesity.head())\n",
        "print(\"\\nShape of combined dataset:\", df_obesity.shape)\n",
        "\n"
      ]
    },
    {
      "cell_type": "markdown",
      "metadata": {
        "id": "nDgLo2ZIyBWK"
      },
      "source": [
        "### Rename Columns for Consistency:"
      ]
    },
    {
      "cell_type": "code",
      "execution_count": null,
      "metadata": {
        "id": "mZv4lZwlhMIK"
      },
      "outputs": [],
      "source": [
        "# Rename columns for consistency\n",
        "df_obesity = df_obesity.rename(columns={\n",
        "    \"TimeDim\": \"Year\",\n",
        "    \"Dim1\": \"Gender\",\n",
        "    \"NumericValue\": \"Mean_Estimate\",\n",
        "    \"Low\": \"LowerBound\",\n",
        "    \"High\": \"UpperBound\",\n",
        "    \"ParentLocation\": \"Region\",\n",
        "    \"SpatialDim\": \"Country\"\n",
        "})\n",
        "\n",
        "# Standardize Gender values\n",
        "gender_map = {\n",
        "    \"Both sexes\": \"Both\",\n",
        "    \"BTSX\": \"Both\",\n",
        "    \"Male\": \"Male\",\n",
        "    \"MLE\": \"Male\",\n",
        "    \"Female\": \"Female\",\n",
        "    \"FMLE\": \"Female\"\n",
        "}\n",
        "\n",
        "df_obesity[\"Gender\"] = df_obesity[\"Gender\"].replace(gender_map)\n",
        "\n",
        "print(df_obesity.head())\n",
        "print(\"\\nUnique Gender values:\", df_obesity[\"Gender\"].unique())\n"
      ]
    },
    {
      "cell_type": "markdown",
      "metadata": {
        "id": "tlDOxzHUyNSG"
      },
      "source": [
        "### Convert Country Codes to Full Names using pycountry:"
      ]
    },
    {
      "cell_type": "markdown",
      "metadata": {
        "id": "6eCe468Xq7mW"
      },
      "source": [
        "# Install ‘pycountry’ package"
      ]
    },
    {
      "cell_type": "code",
      "execution_count": null,
      "metadata": {
        "id": "xl-ejIhKhsX_"
      },
      "outputs": [],
      "source": [
        "!pip install pycountry"
      ]
    },
    {
      "cell_type": "markdown",
      "metadata": {
        "id": "exZoCbsOrL2q"
      },
      "source": [
        "# Import the package in your Python script or notebook"
      ]
    },
    {
      "cell_type": "code",
      "execution_count": null,
      "metadata": {
        "id": "UosObS_Lk1NO"
      },
      "outputs": [],
      "source": [
        "import pycountry\n",
        "\n",
        "special_cases = {\n",
        "    'GLOBAL': 'Global',\n",
        "    'WB_LMI': 'Low & Middle Income',\n",
        "    'WB_HI': 'High Income',\n",
        "    'WB_LI': 'Low Income',\n",
        "    'EMR': 'Eastern Mediterranean Region',\n",
        "    'EUR': 'Europe',\n",
        "    'AFR': 'Africa',\n",
        "    'SEAR': 'South-East Asia Region',\n",
        "    'WPR': 'Western Pacific Region',\n",
        "    'AMR': 'Americas Region',\n",
        "    'WB_UMI': 'Upper Middle Income'\n",
        "}\n",
        "\n",
        "def convert_country(code):\n",
        "    # Handle special cases first\n",
        "    if code in special_cases:\n",
        "        return special_cases[code]\n",
        "\n",
        "    # Try to look up in pycountry using Alpha-3 code\n",
        "    try:\n",
        "        return pycountry.countries.get(alpha_3=code).name\n",
        "    except AttributeError:\n",
        "        # If Alpha-3 fails, try Alpha-2\n",
        "        try:\n",
        "            return pycountry.countries.get(alpha_2=code).name\n",
        "        except AttributeError:\n",
        "            return code  # If no match found, keep original"
      ]
    },
    {
      "cell_type": "markdown",
      "metadata": {
        "id": "R7nERbcurXna"
      },
      "source": [
        "## Define a function to convert the 3-letter codes to full names"
      ]
    },
    {
      "cell_type": "code",
      "execution_count": null,
      "metadata": {
        "id": "20p7pQVyn9gR"
      },
      "outputs": [],
      "source": [
        "import pycountry\n",
        "print(convert_country('AFR'))"
      ]
    },
    {
      "cell_type": "markdown",
      "metadata": {
        "id": "PBobEEOrr7VI"
      },
      "source": [
        "## Apply the function to the Country colum"
      ]
    },
    {
      "cell_type": "code",
      "execution_count": null,
      "metadata": {
        "id": "XIZUFOYysIXX"
      },
      "outputs": [],
      "source": [
        "import pandas as pd\n",
        "import pycountry\n",
        "\n",
        "# Example data\n",
        "df = pd.DataFrame({\n",
        "    'Country': ['IND', 'USA', 'AFR', 'FRA', 'CHN']\n",
        "})\n",
        "\n",
        "# Function to convert 3-letter codes to full names (handles regions too)\n",
        "def convert_country(code):\n",
        "    regions = {\n",
        "        'AFR': 'Africa',\n",
        "        'EUR': 'Europe',\n",
        "        'ASI': 'Asia',\n",
        "        'AME': 'America',\n",
        "        'OCE': 'Oceania'\n",
        "    }\n",
        "    code = str(code).upper()\n",
        "\n",
        "    if code in regions:\n",
        "        return regions[code]\n",
        "\n",
        "    country = pycountry.countries.get(alpha_3=code)\n",
        "    return country.name if country else \"Invalid country code\"\n",
        "\n",
        "# ✅ Apply the function to the Country column\n",
        "df['Country_Full'] = df['Country'].apply(convert_country)\n",
        "\n",
        "print(df)\n"
      ]
    },
    {
      "cell_type": "markdown",
      "metadata": {
        "id": "cN9uWJBksTCf"
      },
      "source": [
        "Handle any remaining unmatched codes using the following dictionary for special values like 'GLOBAL', 'AFR', 'SEAR', etc."
      ]
    },
    {
      "cell_type": "code",
      "execution_count": null,
      "metadata": {
        "id": "wWzhkJGhslD1"
      },
      "outputs": [],
      "source": [
        "import pandas as pd\n",
        "import pycountry\n",
        "\n",
        "# Example DataFrame\n",
        "df = pd.DataFrame({\n",
        "    'Country': ['IND', 'USA', 'AFR', 'GLOBAL', 'SEAR', 'EUR', 'XYZ']\n",
        "})\n",
        "\n",
        "# Dictionary for special or regional codes\n",
        "special_regions = {\n",
        "    'GLOBAL': 'Global',\n",
        "    'AFR': 'Africa',\n",
        "    'AMR': 'Americas',\n",
        "    'EMR': 'Eastern Mediterranean Region',\n",
        "    'EUR': 'Europe',\n",
        "    'SEAR': 'South-East Asia Region',\n",
        "    'WPR': 'Western Pacific Region'\n",
        "}\n",
        "\n",
        "# Function to convert country/region codes to full names\n",
        "def convert_country(code):\n",
        "    if not code:\n",
        "        return \"Unknown\"\n",
        "\n",
        "    code = str(code).upper()\n",
        "\n",
        "    # 1️⃣ Check special codes\n",
        "    if code in special_regions:\n",
        "        return special_regions[code]\n",
        "\n",
        "    # 2️⃣ Try pycountry for standard ISO 3-letter country codes\n",
        "    country = pycountry.countries.get(alpha_3=code)\n",
        "    if country:\n",
        "        return country.name\n",
        "\n",
        "    # 3️⃣ Fallback for unmatched codes\n",
        "    return \"Unmatched\"\n",
        "\n",
        "# ✅ Apply the function\n",
        "df['Country_Full'] = df['Country'].apply(convert_country)\n",
        "\n",
        "print(df)"
      ]
    },
    {
      "cell_type": "markdown",
      "metadata": {
        "id": "oqtzRf6e7fAK"
      },
      "source": [
        "### New Columns to Create:"
      ]
    },
    {
      "cell_type": "markdown",
      "metadata": {
        "id": "Irjw-a5PtHgB"
      },
      "source": [
        "# 1. age_group: Manually assign this column based on the dataset source.\n",
        "*Use \"Adult\" for datasets NCD_BMI_30C and NCD_BMI_18C."
      ]
    },
    {
      "cell_type": "code",
      "execution_count": null,
      "metadata": {
        "id": "xUUJGUm6ttoo"
      },
      "outputs": [],
      "source": [
        "import pandas as pd\n",
        "\n",
        "# Example DataFrames (already loaded separately)\n",
        "df_30C = pd.DataFrame({'Dataset': ['NCD_BMI_30C'] * 3, 'Value': [25, 27, 29]})\n",
        "df_18C = pd.DataFrame({'Dataset': ['NCD_BMI_18C'] * 3, 'Value': [20, 22, 23]})\n",
        "\n",
        "# ✅ Assign manually based on dataset\n",
        "df_30C['age_group'] = 'Adult'\n",
        "df_18C['age_group'] = 'Adult'\n",
        "\n",
        "# Combine if needed\n",
        "df_combined = pd.concat([df_30C, df_18C], ignore_index=True)\n",
        "print(df_combined)\n"
      ]
    },
    {
      "cell_type": "markdown",
      "metadata": {
        "id": "IFyN3gsBusS8"
      },
      "source": [
        "Use \"Child/Adolescent\" for datasets NCD_BMI_PLUS2C and NCD_BMI_MINUS2C."
      ]
    },
    {
      "cell_type": "code",
      "execution_count": null,
      "metadata": {
        "id": "zJBd1Qiwuogs"
      },
      "outputs": [],
      "source": [
        "import pandas as pd\n",
        "\n",
        "# Example combined dataset\n",
        "df = pd.DataFrame({\n",
        "    'Dataset': ['NCD_BMI_30C', 'NCD_BMI_18C', 'NCD_BMI_PLUS2C', 'NCD_BMI_MINUS2C'],\n",
        "    'Value': [25.3, 22.7, 19.4, 17.8]\n",
        "})\n",
        "\n",
        "# ✅ Assign age group based on dataset name\n",
        "df['age_group'] = df['Dataset'].map({\n",
        "    'NCD_BMI_30C': 'Adult',\n",
        "    'NCD_BMI_18C': 'Adult',\n",
        "    'NCD_BMI_PLUS2C': 'Child/Adolescent',\n",
        "    'NCD_BMI_MINUS2C': 'Child/Adolescent'\n",
        "})\n",
        "\n",
        "print(df)\n"
      ]
    },
    {
      "cell_type": "markdown",
      "metadata": {
        "id": "Lh2mcQO_u4ZI"
      },
      "source": [
        "# 2. CI_Width: Calculate the confidence interval width.**bold text**\n",
        "*Formula: CI_Width = High - Low"
      ]
    },
    {
      "cell_type": "code",
      "execution_count": null,
      "metadata": {
        "id": "xKSxZIDvvP4m"
      },
      "outputs": [],
      "source": [
        "import pandas as pd\n",
        "\n",
        "# Example dataset\n",
        "df = pd.DataFrame({\n",
        "    'High': [30.5, 25.2, 19.8, 22.4],\n",
        "    'Low': [28.1, 23.7, 18.6, 21.0]\n",
        "})\n",
        "\n",
        "# ✅ Calculate CI_Width\n",
        "df['CI_Width'] = df['High'] - df['Low']\n",
        "\n",
        "print(df)\n"
      ]
    },
    {
      "cell_type": "markdown",
      "metadata": {
        "id": "6D23jVILvWRt"
      },
      "source": [
        "# 3. obesity_level (for the obesity table only):\n",
        "*Categorize obesity levels based on Mean_Estimate:\n",
        "   *>= 30 → High\n"
      ]
    },
    {
      "cell_type": "code",
      "execution_count": null,
      "metadata": {
        "id": "wrV-ujbUvo8O"
      },
      "outputs": [],
      "source": [
        "import pandas as pd\n",
        "\n",
        "# Example obesity dataset\n",
        "df_obesity = pd.DataFrame({\n",
        "    'Mean_Estimate': [32.5, 29.1, 18.4, 34.2, 27.9]\n",
        "})\n",
        "\n",
        "# ✅ Categorize obesity levels\n",
        "df_obesity['obesity_level'] = df_obesity['Mean_Estimate'].apply(\n",
        "    lambda x: 'High' if x >= 30 else 'Below 30'\n",
        ")\n",
        "\n",
        "print(df_obesity)\n"
      ]
    },
    {
      "cell_type": "code",
      "execution_count": null,
      "metadata": {
        "id": "xB_dvBVlvtFb"
      },
      "outputs": [],
      "source": [
        "def categorize_obesity(x):\n",
        "    if x >= 30:\n",
        "        return 'High'\n",
        "    elif 25 <= x < 30:\n",
        "        return 'Moderate'\n",
        "    else:\n",
        "        return 'Low'\n",
        "\n",
        "df_obesity['obesity_level'] = df_obesity['Mean_Estimate'].apply(categorize_obesity)\n"
      ]
    },
    {
      "cell_type": "markdown",
      "metadata": {
        "id": "y1tAVRNuwF0M"
      },
      "source": [
        "# * 25–29.9 → Moderate"
      ]
    },
    {
      "cell_type": "code",
      "execution_count": null,
      "metadata": {
        "id": "97EUWV_lwBfE"
      },
      "outputs": [],
      "source": [
        "import pandas as pd\n",
        "\n",
        "# Example obesity dataset\n",
        "df_obesity = pd.DataFrame({\n",
        "    'Mean_Estimate': [32.5, 29.1, 24.7, 34.2, 18.9]\n",
        "})\n",
        "\n",
        "# ✅ Categorize obesity levels based on Mean_Estimate\n",
        "def categorize_obesity(x):\n",
        "    if x >= 30:\n",
        "        return 'High'\n",
        "    elif 25 <= x < 30:\n",
        "        return 'Moderate'\n",
        "    else:\n",
        "        return 'Low'\n",
        "\n",
        "df_obesity['obesity_level'] = df_obesity['Mean_Estimate'].apply(categorize_obesity)\n",
        "\n",
        "print(df_obesity)\n"
      ]
    },
    {
      "cell_type": "markdown",
      "metadata": {
        "id": "9Bt02AE0wQXO"
      },
      "source": [
        "< 25 → Low"
      ]
    },
    {
      "cell_type": "code",
      "execution_count": null,
      "metadata": {
        "id": "8nJ4VTUowbvj"
      },
      "outputs": [],
      "source": [
        "import pandas as pd\n",
        "\n",
        "# Example obesity dataset\n",
        "df_obesity = pd.DataFrame({\n",
        "    'Mean_Estimate': [32.5, 29.1, 24.7, 34.2, 18.9]\n",
        "})\n",
        "\n",
        "# ✅ Categorize obesity levels based on Mean_Estimate\n",
        "def categorize_obesity(x):\n",
        "    if x >= 30:\n",
        "        return 'High'\n",
        "    elif 25 <= x < 30:\n",
        "        return 'Moderate'\n",
        "    elif x < 25:\n",
        "        return 'Low'\n",
        "\n",
        "df_obesity['obesity_level'] = df_obesity['Mean_Estimate'].apply(categorize_obesity)\n",
        "\n",
        "print(df_obesity)\n"
      ]
    },
    {
      "cell_type": "markdown",
      "metadata": {
        "id": "67VTBNqR96Ca"
      },
      "source": [
        "# Each dataset will end up with 10 columns after cleaning and feature engineering"
      ]
    },
    {
      "cell_type": "code",
      "execution_count": null,
      "metadata": {
        "id": "O8L_bjy89fAR"
      },
      "outputs": [],
      "source": [
        "import pandas as pd\n",
        "\n",
        "# Example malnutrition dataset\n",
        "df = pd.DataFrame({\n",
        "    'ParentLocation': ['India', 'Nepal', 'Bangladesh', 'Sri Lanka'],\n",
        "    'SpatialDim': ['South Asia']*4,\n",
        "    'TimeDim': [2018, 2019, 2020, 2021],\n",
        "    'Dim1': ['Stunting', 'Wasting', 'Underweight', 'Stunting'],\n",
        "    'Mean_Estimate': [22.5, 18.4, 12.9, 25.7],\n",
        "    'Low': [20.0, 15.0, 10.0, 22.0],\n",
        "    'High': [25.0, 22.0, 15.0, 28.0],\n",
        "    'NumericValue': [22.5, 18.4, 12.9, 25.7],\n",
        "    'age_group': ['Child/Adolescent']*4\n",
        "})\n",
        "\n",
        "# Select & rename columns for consistency\n",
        "df = df.rename(columns={\n",
        "    \"ParentLocation\": \"Country\",\n",
        "    \"Dim1\": \"Indicator\",\n",
        "    \"TimeDim\": \"Year\",\n",
        "    \"Low\": \"LowerBound\",\n",
        "    \"High\": \"UpperBound\",\n",
        "    \"NumericValue\": \"Value\",\n",
        "    \"SpatialDim\": \"Region\"\n",
        "})\n",
        "\n",
        "# Feature engineering\n",
        "df['CI_Width'] = df['UpperBound'] - df['LowerBound']\n",
        "\n",
        "# Malnutrition level\n",
        "df['malnutrition_level'] = pd.cut(\n",
        "    df['Mean_Estimate'],\n",
        "    bins=[-float('inf'), 10, 19.9, float('inf')],\n",
        "    labels=['Low', 'Moderate', 'High']\n",
        ")\n",
        "\n",
        "# Keep only 10 columns\n",
        "df = df[['Country', 'Region', 'Year', 'Indicator', 'Mean_Estimate',\n",
        "         'LowerBound', 'UpperBound', 'Value', 'age_group', 'CI_Width']]\n",
        "\n",
        "print(df)\n"
      ]
    },
    {
      "cell_type": "markdown",
      "metadata": {
        "id": "5zlp6ZUfwtF_"
      },
      "source": [
        "Column Descriptions\n"
      ]
    },
    {
      "cell_type": "code",
      "execution_count": null,
      "metadata": {
        "id": "TnPFrAWhyDEZ"
      },
      "outputs": [],
      "source": [
        "import pandas as pd\n",
        "import pycountry\n",
        "\n",
        "# Example raw dataset\n",
        "df = pd.DataFrame({\n",
        "    'Dataset': ['NCD_BMI_30C', 'NCD_BMI_18C', 'NCD_BMI_PLUS2C', 'NCD_BMI_MINUS2C'],\n",
        "    'Year': [2015, 2016, 2017, 2018],\n",
        "    'Gender': ['Male', 'Female', 'Both', 'Male'],\n",
        "    'Mean_Estimate': [32.5, 22.7, 19.4, 17.8],\n",
        "    'Low': [30.0, 21.0, 18.0, 16.0],\n",
        "    'High': [35.0, 24.0, 21.0, 19.0],\n",
        "    'Country_Code': ['IND', 'USA', 'NPL', 'AFR']  # 3-letter codes\n",
        "})\n",
        "\n",
        "# 1️⃣ Assign Age_Group\n",
        "df['Age_Group'] = df['Dataset'].map({\n",
        "    'NCD_BMI_30C': 'Adult',\n",
        "    'NCD_BMI_18C': 'Adult',\n",
        "    'NCD_BMI_PLUS2C': 'Child/Adolescent',\n",
        "    'NCD_BMI_MINUS2C': 'Child/Adolescent'\n",
        "})\n",
        "\n",
        "# 2️⃣ Convert Country code to full name and WHO Region\n",
        "special_regions = {\n",
        "    'GLOBAL': 'Global',\n",
        "    'AFR': 'Africa',\n",
        "    'AMR': 'Americas',\n",
        "    'EMR': 'Eastern Mediterranean Region',\n",
        "    'EUR': 'Europe',\n",
        "    'SEAR': 'South-East Asia Region',\n",
        "    'WPR': 'Western Pacific Region'\n",
        "}\n",
        "\n",
        "def convert_country(code):\n",
        "    code = str(code).upper()\n",
        "    if code in special_regions:\n",
        "        return special_regions[code]\n",
        "    country = pycountry.countries.get(alpha_3=code)\n",
        "    return country.name if country else 'Unmatched'\n",
        "\n",
        "def get_region(code):\n",
        "    code = str(code).upper()\n",
        "    return special_regions.get(code, 'Unknown')  # WHO region or 'Unknown'\n",
        "\n",
        "df['Country'] = df['Country_Code'].apply(convert_country)\n",
        "df['Region'] = df['Country_Code'].apply(get_region)\n",
        "\n",
        "# 3️⃣ CI_Width\n",
        "df['CI_Width'] = df['High'] - df['Low']\n",
        "\n",
        "# 4️⃣ Obesity_Level (only for obesity datasets)\n",
        "def categorize_obesity(x):\n",
        "    if x >= 30:\n",
        "        return 'High'\n",
        "    elif 25 <= x < 30:\n",
        "        return 'Moderate'\n",
        "    else:\n",
        "        return 'Low'\n",
        "\n",
        "# Apply only if this is an obesity dataset\n",
        "df['Obesity_Level'] = df['Mean_Estimate'].apply(categorize_obesity)\n",
        "\n",
        "# 5️⃣ Placeholder for Malnutrition_Level (if processing malnutrition table separately)\n",
        "df['Malnutrition_Level'] = None  # Fill this when handling malnutrition data\n",
        "\n",
        "# 6️⃣ Select/Order Columns according to your schema\n",
        "df = df[['Year', 'Gender', 'Mean_Estimate', 'Low', 'High', 'Age_Group',\n",
        "         'Country', 'Region', 'CI_Width', 'Obesity_Level', 'Malnutrition_Level']]\n",
        "\n",
        "print(df)"
      ]
    },
    {
      "cell_type": "markdown",
      "metadata": {
        "id": "XyamNWWgO1iB"
      },
      "source": [
        "### **For Malnutrition:**"
      ]
    },
    {
      "cell_type": "code",
      "execution_count": null,
      "metadata": {
        "id": "CpRqRVS5pn7o"
      },
      "outputs": [],
      "source": [
        "url = \"https://ghoapi.azureedge.net/api/NCD_BMI_18C\"    #Underweight in adults (BMI < 18.5)\n",
        "\n",
        "import requests\n",
        "\n",
        "response = requests.get(url)\n",
        "\n",
        "data = response.json()\n",
        "\n",
        "data"
      ]
    },
    {
      "cell_type": "code",
      "execution_count": null,
      "metadata": {
        "id": "uv9AP1hfp-K8"
      },
      "outputs": [],
      "source": [
        "data.keys()"
      ]
    },
    {
      "cell_type": "code",
      "execution_count": null,
      "metadata": {
        "id": "iL5jrF8VqoZv"
      },
      "outputs": [],
      "source": [
        "import pandas as pd\n",
        "df3 = pd.DataFrame(data['value'])\n",
        "df3.head()"
      ]
    },
    {
      "cell_type": "code",
      "execution_count": null,
      "metadata": {
        "id": "StWQuyFEqrs5"
      },
      "outputs": [],
      "source": [
        "df3.shape"
      ]
    },
    {
      "cell_type": "code",
      "execution_count": null,
      "metadata": {
        "id": "6VF3GzzXqwX9"
      },
      "outputs": [],
      "source": [
        "df3[\"age_group\"] =\"Underweight in adults\""
      ]
    },
    {
      "cell_type": "code",
      "execution_count": null,
      "metadata": {
        "id": "tFmC69btQx45"
      },
      "outputs": [],
      "source": [
        "df3.head()"
      ]
    },
    {
      "cell_type": "code",
      "execution_count": null,
      "metadata": {
        "id": "FXfe73ih62_D"
      },
      "outputs": [],
      "source": [
        "df3.columns"
      ]
    },
    {
      "cell_type": "markdown",
      "metadata": {
        "id": "dLcj6isbuMjY"
      },
      "source": [
        "### Thinness in children"
      ]
    },
    {
      "cell_type": "code",
      "execution_count": null,
      "metadata": {
        "id": "cN9qqXTzrWQl"
      },
      "outputs": [],
      "source": [
        "url = \"https://ghoapi.azureedge.net/api/NCD_BMI_MINUS2C\"\n",
        "\n",
        "import requests\n",
        "\n",
        "response = requests.get(url)\n",
        "\n",
        "data = response.json()\n",
        "\n",
        "data"
      ]
    },
    {
      "cell_type": "code",
      "execution_count": null,
      "metadata": {
        "id": "1xc0XoyAuxpN"
      },
      "outputs": [],
      "source": [
        "data.keys()"
      ]
    },
    {
      "cell_type": "code",
      "execution_count": null,
      "metadata": {
        "id": "oVmGJ4h-u79S"
      },
      "outputs": [],
      "source": [
        "import pandas as pd\n",
        "df4 = pd.DataFrame(data['value'])\n",
        "df4.head()"
      ]
    },
    {
      "cell_type": "code",
      "execution_count": null,
      "metadata": {
        "id": "fKMK8EYFvEjU"
      },
      "outputs": [],
      "source": [
        "df4.shape"
      ]
    },
    {
      "cell_type": "code",
      "execution_count": null,
      "metadata": {
        "id": "SdSEmWnmvPWN"
      },
      "outputs": [],
      "source": [
        "df4[\"age_group\"] =\"Thinness in children\""
      ]
    },
    {
      "cell_type": "code",
      "execution_count": null,
      "metadata": {
        "id": "5dYp1YfSRAac"
      },
      "outputs": [],
      "source": [
        "df4.head()"
      ]
    },
    {
      "cell_type": "code",
      "execution_count": null,
      "metadata": {
        "id": "ChWMtVkwPQs6"
      },
      "outputs": [],
      "source": [
        "df4.columns"
      ]
    },
    {
      "cell_type": "markdown",
      "metadata": {
        "id": "LbXDV57GReYA"
      },
      "source": [
        "### Combine the two malnutrition datasets into one dataframe called df_malnutrition."
      ]
    },
    {
      "cell_type": "code",
      "execution_count": null,
      "metadata": {
        "id": "MBO3yr15tyDP"
      },
      "outputs": [],
      "source": [
        "import pandas as pd\n",
        "\n",
        "# Combine them into one dataframe\n",
        "df_malnutrition = pd.concat([df3, df4], ignore_index=True)\n",
        "\n",
        "print(df_malnutrition.head())\n"
      ]
    },
    {
      "cell_type": "markdown",
      "metadata": {
        "id": "UrwGPPCfR1Xt"
      },
      "source": [
        "### Filter each dataset to include only records from the years 2012 to 2022"
      ]
    },
    {
      "cell_type": "code",
      "execution_count": null,
      "metadata": {
        "id": "uHV3Bil_UVP8"
      },
      "outputs": [],
      "source": [
        "# Filter df3 for years 2012–2022\n",
        "df3_filtered = df3[(df3['TimeDim'] >= 2012) & (df3['TimeDim'] <= 2022)]\n",
        "\n",
        "# Filter df4 for years 2012–2022\n",
        "df4_filtered = df4[(df4['TimeDim'] >= 2012) & (df4['TimeDim'] <= 2022)]\n"
      ]
    },
    {
      "cell_type": "code",
      "execution_count": null,
      "metadata": {
        "id": "1Wpj_RjXUlQj"
      },
      "outputs": [],
      "source": [
        "import pandas as pd\n",
        "\n",
        "# Combine the filtered datasets\n",
        "df_obesity = pd.concat([df3_filtered, df4_filtered], ignore_index=True)\n",
        "\n",
        "# Optional: check\n",
        "print(df_obesity['TimeDim'].min(), df_obesity['TimeDim'].max())  # Should show 2012 and 2022\n",
        "print(df_obesity.shape)  # Number of rows and columns\n"
      ]
    },
    {
      "cell_type": "markdown",
      "metadata": {
        "id": "Lgidhk9PVxwz"
      },
      "source": [
        "### Step 2: 🧹 Data Cleaning & Feature Engineering"
      ]
    },
    {
      "cell_type": "markdown",
      "metadata": {
        "id": "uZk16smA0n4P"
      },
      "source": [
        "# Columns to Retain:"
      ]
    },
    {
      "cell_type": "code",
      "execution_count": null,
      "metadata": {
        "id": "IkkeMkiIWB64"
      },
      "outputs": [],
      "source": [
        "import pandas as pd\n",
        "\n",
        "columns_needed = [\n",
        "    \"ParentLocation\",\n",
        "    \"Dim1\",\n",
        "    \"TimeDim\",\n",
        "    \"Low\",\n",
        "    \"High\",\n",
        "    \"NumericValue\",\n",
        "    \"SpatialDim\",\n",
        "    \"age_group\"\n",
        "]\n",
        "\n",
        "df2_filtered = df2[columns_needed]\n",
        "\n",
        "print(df2_filtered.head())\n"
      ]
    },
    {
      "cell_type": "markdown",
      "metadata": {
        "id": "J0tImN9e0tz6"
      },
      "source": [
        "# Rename Columns for Consistency:"
      ]
    },
    {
      "cell_type": "code",
      "execution_count": null,
      "metadata": {
        "id": "rkP2iI4F1TMQ"
      },
      "outputs": [],
      "source": [
        "# Rename columns for consistency\n",
        "df2_filtered = df2_filtered.rename(columns={\n",
        "    \"ParentLocation\": \"Country\",\n",
        "    \"Dim1\": \"Indicator\",\n",
        "    \"TimeDim\": \"Year\",\n",
        "    \"Low\": \"LowerBound\",\n",
        "    \"High\": \"UpperBound\",\n",
        "    \"NumericValue\": \"Value\",\n",
        "    \"SpatialDim\": \"Region\"\n",
        "})\n",
        "\n",
        "print(df2_filtered.head())\n"
      ]
    },
    {
      "cell_type": "markdown",
      "metadata": {
        "id": "sXmcd04W1bM2"
      },
      "source": [
        "# Convert Country Codes to Full Names using pycountry:"
      ]
    },
    {
      "cell_type": "markdown",
      "metadata": {
        "id": "mNpIFqza1d5Y"
      },
      "source": [
        "# 1. Step-by-step instructions:\n",
        "* Install ‘pycountry’ package"
      ]
    },
    {
      "cell_type": "code",
      "execution_count": null,
      "metadata": {
        "id": "NJ5HtVs-15RY"
      },
      "outputs": [],
      "source": [
        "!pip install pycountry"
      ]
    },
    {
      "cell_type": "markdown",
      "metadata": {
        "id": "NxrOABdH2Byi"
      },
      "source": [
        "# Import the package in your Python script or notebook"
      ]
    },
    {
      "cell_type": "code",
      "execution_count": null,
      "metadata": {
        "id": "APIxPrSF2poc"
      },
      "outputs": [],
      "source": [
        "import pycountry\n",
        "\n",
        "special_cases = {\n",
        "    'GLOBAL': 'Global',\n",
        "    'WB_LMI': 'Low & Middle Income',\n",
        "    'WB_HI': 'High Income',\n",
        "    'WB_LI': 'Low Income',\n",
        "    'EMR': 'Eastern Mediterranean Region',\n",
        "    'EUR': 'Europe',\n",
        "    'AFR': 'Africa',\n",
        "    'SEAR': 'South-East Asia Region',\n",
        "    'WPR': 'Western Pacific Region',\n",
        "    'AMR': 'Americas Region',\n",
        "    'WB_UMI': 'Upper Middle Income'\n",
        "}\n",
        "\n",
        "def convert_country(code):\n",
        "    # Handle special cases first\n",
        "    if code in special_cases:\n",
        "        return special_cases[code]\n",
        "\n",
        "    # Try to look up in pycountry using Alpha-3 code\n",
        "    try:\n",
        "        return pycountry.countries.get(alpha_3=code).name\n",
        "    except AttributeError:\n",
        "        # If Alpha-3 fails, try Alpha-2\n",
        "        try:\n",
        "            return pycountry.countries.get(alpha_2=code).name\n",
        "        except AttributeError:\n",
        "            return code  # If no match found, keep original"
      ]
    },
    {
      "cell_type": "markdown",
      "metadata": {
        "id": "SHQNKdF_2FGa"
      },
      "source": [
        "# Define a function to convert the 3-letter codes to full names"
      ]
    },
    {
      "cell_type": "code",
      "execution_count": null,
      "metadata": {
        "id": "dYZ7-vgy2_jD"
      },
      "outputs": [],
      "source": [
        "import pycountry\n",
        "print(convert_country('AFR'))"
      ]
    },
    {
      "cell_type": "markdown",
      "metadata": {
        "id": "oZAg-iOy2Nyb"
      },
      "source": [
        "# Apply the function to the Country colum"
      ]
    },
    {
      "cell_type": "code",
      "execution_count": null,
      "metadata": {
        "id": "dBy4pSWj3SPl"
      },
      "outputs": [],
      "source": [
        "import pandas as pd\n",
        "import pycountry\n",
        "\n",
        "# Example data\n",
        "df = pd.DataFrame({\n",
        "    'Country': ['IND', 'USA', 'AFR', 'FRA', 'CHN']\n",
        "})\n",
        "\n",
        "# Function to convert 3-letter codes to full names (handles regions too)\n",
        "def convert_country(code):\n",
        "    regions = {\n",
        "        'AFR': 'Africa',\n",
        "        'EUR': 'Europe',\n",
        "        'ASI': 'Asia',\n",
        "        'AME': 'America',\n",
        "        'OCE': 'Oceania'\n",
        "    }\n",
        "    code = str(code).upper()\n",
        "\n",
        "    if code in regions:\n",
        "        return regions[code]\n",
        "\n",
        "    country = pycountry.countries.get(alpha_3=code)\n",
        "    return country.name if country else \"Invalid country code\"\n",
        "\n",
        "# ✅ Apply the function to the Country column\n",
        "df['Country_Full'] = df['Country'].apply(convert_country)\n",
        "\n",
        "print(df)\n"
      ]
    },
    {
      "cell_type": "markdown",
      "metadata": {
        "id": "cyUC74iR2aQA"
      },
      "source": [
        "Handle any remaining unmatched codes using the following dictionary for special values like 'GLOBAL', 'AFR', 'SEAR', etc."
      ]
    },
    {
      "cell_type": "code",
      "execution_count": null,
      "metadata": {
        "id": "F6BYm37d3gfC"
      },
      "outputs": [],
      "source": [
        "import pandas as pd\n",
        "import pycountry\n",
        "\n",
        "# Example DataFrame\n",
        "df = pd.DataFrame({\n",
        "    'Country': ['IND', 'USA', 'AFR', 'GLOBAL', 'SEAR', 'EUR', 'XYZ']\n",
        "})\n",
        "\n",
        "# Dictionary for special or regional codes\n",
        "special_regions = {\n",
        "    'GLOBAL': 'Global',\n",
        "    'AFR': 'Africa',\n",
        "    'AMR': 'Americas',\n",
        "    'EMR': 'Eastern Mediterranean Region',\n",
        "    'EUR': 'Europe',\n",
        "    'SEAR': 'South-East Asia Region',\n",
        "    'WPR': 'Western Pacific Region'\n",
        "}\n",
        "\n",
        "# Function to convert country/region codes to full names\n",
        "def convert_country(code):\n",
        "    if not code:\n",
        "        return \"Unknown\"\n",
        "\n",
        "    code = str(code).upper()\n",
        "\n",
        "    # 1️⃣ Check special codes\n",
        "    if code in special_regions:\n",
        "        return special_regions[code]\n",
        "\n",
        "    # 2️⃣ Try pycountry for standard ISO 3-letter country codes\n",
        "    country = pycountry.countries.get(alpha_3=code)\n",
        "    if country:\n",
        "        return country.name\n",
        "\n",
        "    # 3️⃣ Fallback for unmatched codes\n",
        "    return \"Unmatched\"\n",
        "\n",
        "# ✅ Apply the function\n",
        "df['Country_Full'] = df['Country'].apply(convert_country)\n",
        "\n",
        "print(df)"
      ]
    },
    {
      "cell_type": "markdown",
      "metadata": {
        "id": "57lBhkR83wil"
      },
      "source": [
        "## New Columns to Create:\n",
        "1. age_group: Manually assign this column based on the dataset source.\n",
        "* Use \"Adult\" for datasets NCD_BMI_30C and NCD_BMI_18C."
      ]
    },
    {
      "cell_type": "code",
      "execution_count": null,
      "metadata": {
        "id": "AYGz-qCI7FLH"
      },
      "outputs": [],
      "source": [
        "import pandas as pd\n",
        "\n",
        "# Example DataFrames (already loaded separately)\n",
        "df_30C = pd.DataFrame({'Dataset': ['NCD_BMI_30C'] * 3, 'Value': [25, 27, 29]})\n",
        "df_18C = pd.DataFrame({'Dataset': ['NCD_BMI_18C'] * 3, 'Value': [20, 22, 23]})\n",
        "\n",
        "# ✅ Assign manually based on dataset\n",
        "df_30C['age_group'] = 'Adult'\n",
        "df_18C['age_group'] = 'Adult'\n",
        "\n",
        "# Combine if needed\n",
        "df_combined = pd.concat([df_30C, df_18C], ignore_index=True)\n",
        "print(df_combined)\n"
      ]
    },
    {
      "cell_type": "markdown",
      "metadata": {
        "id": "cVMYiqoy4XDJ"
      },
      "source": [
        "# *Use \"Child/Adolescent\" for datasets NCD_BMI_PLUS2C and NCD_BMI_MINUS2C."
      ]
    },
    {
      "cell_type": "code",
      "execution_count": null,
      "metadata": {
        "id": "kBo8HylO7ctv"
      },
      "outputs": [],
      "source": [
        "import pandas as pd\n",
        "\n",
        "# Example combined dataset\n",
        "df = pd.DataFrame({\n",
        "    'Dataset': ['NCD_BMI_30C', 'NCD_BMI_18C', 'NCD_BMI_PLUS2C', 'NCD_BMI_MINUS2C'],\n",
        "    'Value': [25.3, 22.7, 19.4, 17.8]\n",
        "})\n",
        "\n",
        "# ✅ Assign age group based on dataset name\n",
        "df['age_group'] = df['Dataset'].map({\n",
        "    'NCD_BMI_30C': 'Adult',\n",
        "    'NCD_BMI_18C': 'Adult',\n",
        "    'NCD_BMI_PLUS2C': 'Child/Adolescent',\n",
        "    'NCD_BMI_MINUS2C': 'Child/Adolescent'\n",
        "})\n",
        "\n",
        "print(df)\n"
      ]
    },
    {
      "cell_type": "markdown",
      "metadata": {
        "id": "e2JZvTWK4enj"
      },
      "source": [
        "# 2. CI_Width: Calculate the confidence interval width.\n",
        "* Formula: CI_Width = High - Low\n"
      ]
    },
    {
      "cell_type": "code",
      "execution_count": null,
      "metadata": {
        "id": "peWAd0hj766m"
      },
      "outputs": [],
      "source": [
        "import pandas as pd\n",
        "\n",
        "# Example dataset\n",
        "df = pd.DataFrame({\n",
        "    'High': [30.5, 25.2, 19.8, 22.4],\n",
        "    'Low': [28.1, 23.7, 18.6, 21.0]\n",
        "})\n",
        "\n",
        "# ✅ Calculate CI_Width\n",
        "df['CI_Width'] = df['High'] - df['Low']\n",
        "\n",
        "print(df)\n"
      ]
    },
    {
      "cell_type": "markdown",
      "metadata": {
        "id": "vZPmrIVS49p1"
      },
      "source": [
        "# 3. malnutrition_level (for the malnutrition table only):\n",
        "*Categorize malnutrition levels based on Mean_Estimate:\n",
        "   *>= 20 → High"
      ]
    },
    {
      "cell_type": "code",
      "execution_count": null,
      "metadata": {
        "id": "Hah1hbk75HTN"
      },
      "outputs": [],
      "source": [
        "import pandas as pd\n",
        "\n",
        "# Example dataset\n",
        "df = pd.DataFrame({\n",
        "    'High': [30.5, 25.2, 19.8, 22.4],\n",
        "    'Low': [28.1, 23.7, 18.6, 21.0],\n",
        "    'Mean_Estimate': [22.5, 18.4, 12.9, 25.7]  # Example mean values\n",
        "})\n",
        "\n",
        "# ✅ Calculate CI_Width\n",
        "df['CI_Width'] = df['High'] - df['Low']\n",
        "\n",
        "# ✅ Categorize malnutrition_level based on Mean_Estimate\n",
        "df['malnutrition_level'] = pd.cut(\n",
        "    df['Mean_Estimate'],\n",
        "    bins=[-float('inf'), 10, 20, float('inf')],\n",
        "    labels=['Low', 'Moderate', 'High']\n",
        ")\n",
        "\n",
        "print(df)\n"
      ]
    },
    {
      "cell_type": "markdown",
      "metadata": {
        "id": "mV2WkIWk5LsR"
      },
      "source": [
        "* 10–19.9 → Moderate"
      ]
    },
    {
      "cell_type": "code",
      "execution_count": null,
      "metadata": {
        "id": "u6RuJmsV5Rnm"
      },
      "outputs": [],
      "source": [
        "import pandas as pd\n",
        "\n",
        "# Example dataset\n",
        "df = pd.DataFrame({\n",
        "    'High': [30.5, 25.2, 19.8, 22.4],\n",
        "    'Low': [28.1, 23.7, 18.6, 21.0],\n",
        "    'Mean_Estimate': [22.5, 18.4, 12.9, 25.7]  # Example mean values\n",
        "})\n",
        "\n",
        "# ✅ Calculate CI_Width\n",
        "df['CI_Width'] = df['High'] - df['Low']\n",
        "\n",
        "# ✅ Categorize malnutrition_level based on Mean_Estimate\n",
        "df['malnutrition_level'] = pd.cut(\n",
        "    df['Mean_Estimate'],\n",
        "    bins=[-float('inf'), 9.999, 19.9, float('inf')],\n",
        "    labels=['Low', 'Moderate', 'High']\n",
        ")\n",
        "\n",
        "print(df)\n"
      ]
    },
    {
      "cell_type": "markdown",
      "metadata": {
        "id": "eX3mz2G75SJ-"
      },
      "source": []
    },
    {
      "cell_type": "markdown",
      "metadata": {
        "id": "OHj04Zpe5Wgl"
      },
      "source": [
        "* < 10 → Low"
      ]
    },
    {
      "cell_type": "markdown",
      "metadata": {
        "id": "EoKKfpBN9v5G"
      },
      "source": [
        "# Each dataset will end up with 10 columns after cleaning and feature engineering"
      ]
    },
    {
      "cell_type": "code",
      "execution_count": null,
      "metadata": {
        "id": "qvfMcT-c83Fd"
      },
      "outputs": [],
      "source": [
        "import pandas as pd\n",
        "\n",
        "# Example dataset\n",
        "df = pd.DataFrame({\n",
        "    'High': [30.5, 25.2, 19.8, 22.4],\n",
        "    'Low': [28.1, 23.7, 18.6, 21.0],\n",
        "    'Mean_Estimate': [22.5, 18.4, 12.9, 25.7]  # Example mean values\n",
        "})\n",
        "\n",
        "# Calculate CI_Width\n",
        "df['CI_Width'] = df['High'] - df['Low']\n",
        "\n",
        "# Categorize malnutrition_level\n",
        "df['malnutrition_level'] = pd.cut(\n",
        "    df['Mean_Estimate'],\n",
        "    bins=[-float('inf'), 10, 19.9, float('inf')],\n",
        "    labels=['Low', 'Moderate', 'High']\n",
        ")\n",
        "\n",
        "print(df)\n"
      ]
    },
    {
      "cell_type": "code",
      "execution_count": null,
      "metadata": {
        "id": "-N49Vk7p9Oav"
      },
      "outputs": [],
      "source": [
        "import pandas as pd\n",
        "\n",
        "# Example malnutrition dataset\n",
        "df = pd.DataFrame({\n",
        "    'ParentLocation': ['India', 'Nepal', 'Bangladesh', 'Sri Lanka'],\n",
        "    'SpatialDim': ['South Asia']*4,\n",
        "    'TimeDim': [2018, 2019, 2020, 2021],\n",
        "    'Dim1': ['Stunting', 'Wasting', 'Underweight', 'Stunting'],\n",
        "    'Mean_Estimate': [22.5, 18.4, 12.9, 25.7],\n",
        "    'Low': [20.0, 15.0, 10.0, 22.0],\n",
        "    'High': [25.0, 22.0, 15.0, 28.0],\n",
        "    'NumericValue': [22.5, 18.4, 12.9, 25.7],\n",
        "    'age_group': ['Child/Adolescent']*4\n",
        "})\n",
        "\n",
        "# Select & rename columns for consistency\n",
        "df = df.rename(columns={\n",
        "    \"ParentLocation\": \"Country\",\n",
        "    \"Dim1\": \"Indicator\",\n",
        "    \"TimeDim\": \"Year\",\n",
        "    \"Low\": \"LowerBound\",\n",
        "    \"High\": \"UpperBound\",\n",
        "    \"NumericValue\": \"Value\",\n",
        "    \"SpatialDim\": \"Region\"\n",
        "})\n",
        "\n",
        "# Feature engineering\n",
        "df['CI_Width'] = df['UpperBound'] - df['LowerBound']\n",
        "\n",
        "# Malnutrition level\n",
        "df['malnutrition_level'] = pd.cut(\n",
        "    df['Mean_Estimate'],\n",
        "    bins=[-float('inf'), 10, 19.9, float('inf')],\n",
        "    labels=['Low', 'Moderate', 'High']\n",
        ")\n",
        "\n",
        "# Keep only 10 columns\n",
        "df = df[['Country', 'Region', 'Year', 'Indicator', 'Mean_Estimate',\n",
        "         'LowerBound', 'UpperBound', 'Value', 'age_group', 'CI_Width']]\n",
        "\n",
        "print(df)\n"
      ]
    },
    {
      "cell_type": "markdown",
      "metadata": {
        "id": "l9wUeZ-N-WKk"
      },
      "source": [
        "### Column Descriptions"
      ]
    },
    {
      "cell_type": "code",
      "execution_count": null,
      "metadata": {
        "id": "UgNvW_Tq-MVb"
      },
      "outputs": [],
      "source": [
        "import pandas as pd\n",
        "import pycountry\n",
        "\n",
        "# Example raw dataset\n",
        "df = pd.DataFrame({\n",
        "    'Dataset': ['NCD_BMI_30C', 'NCD_BMI_18C', 'NCD_BMI_PLUS2C', 'NCD_BMI_MINUS2C'],\n",
        "    'Year': [2015, 2016, 2017, 2018],\n",
        "    'Gender': ['Male', 'Female', 'Both', 'Male'],\n",
        "    'Mean_Estimate': [32.5, 22.7, 19.4, 17.8],\n",
        "    'Low': [30.0, 21.0, 18.0, 16.0],\n",
        "    'High': [35.0, 24.0, 21.0, 19.0],\n",
        "    'Country_Code': ['IND', 'USA', 'NPL', 'AFR']  # 3-letter codes\n",
        "})\n",
        "\n",
        "# 1️⃣ Assign Age_Group\n",
        "df['Age_Group'] = df['Dataset'].map({\n",
        "    'NCD_BMI_30C': 'Adult',\n",
        "    'NCD_BMI_18C': 'Adult',\n",
        "    'NCD_BMI_PLUS2C': 'Child/Adolescent',\n",
        "    'NCD_BMI_MINUS2C': 'Child/Adolescent'\n",
        "})\n",
        "\n",
        "# 2️⃣ Convert Country code to full name and WHO Region\n",
        "special_regions = {\n",
        "    'GLOBAL': 'Global',\n",
        "    'AFR': 'Africa',\n",
        "    'AMR': 'Americas',\n",
        "    'EMR': 'Eastern Mediterranean Region',\n",
        "    'EUR': 'Europe',\n",
        "    'SEAR': 'South-East Asia Region',\n",
        "    'WPR': 'Western Pacific Region'\n",
        "}\n",
        "\n",
        "def convert_country(code):\n",
        "    code = str(code).upper()\n",
        "    if code in special_regions:\n",
        "        return special_regions[code]\n",
        "    country = pycountry.countries.get(alpha_3=code)\n",
        "    return country.name if country else 'Unmatched'\n",
        "\n",
        "def get_region(code):\n",
        "    code = str(code).upper()\n",
        "    return special_regions.get(code, 'Unknown')  # WHO region or 'Unknown'\n",
        "\n",
        "df['Country'] = df['Country_Code'].apply(convert_country)\n",
        "df['Region'] = df['Country_Code'].apply(get_region)\n",
        "\n",
        "# 3️⃣ CI_Width\n",
        "df['CI_Width'] = df['High'] - df['Low']\n",
        "\n",
        "# 4️⃣ Obesity_Level (only for obesity datasets)\n",
        "def categorize_obesity(x):\n",
        "    if x >= 30:\n",
        "        return 'High'\n",
        "    elif 25 <= x < 30:\n",
        "        return 'Moderate'\n",
        "    else:\n",
        "        return 'Low'\n",
        "\n",
        "# Apply only if this is an obesity dataset\n",
        "df['Obesity_Level'] = df['Mean_Estimate'].apply(categorize_obesity)\n",
        "\n",
        "# 5️⃣ Placeholder for Malnutrition_Level (if processing malnutrition table separately)\n",
        "df['Malnutrition_Level'] = None  # Fill this when handling malnutrition data\n",
        "\n",
        "# 6️⃣ Select/Order Columns according to your schema\n",
        "df = df[['Year', 'Gender', 'Mean_Estimate', 'Low', 'High', 'Age_Group',\n",
        "         'Country', 'Region', 'CI_Width', 'Obesity_Level', 'Malnutrition_Level']]\n",
        "\n",
        "print(df)"
      ]
    },
    {
      "cell_type": "code",
      "execution_count": null,
      "metadata": {
        "id": "WnABNCvj-kdi"
      },
      "outputs": [],
      "source": []
    },
    {
      "cell_type": "markdown",
      "metadata": {
        "id": "PVUbx-YG-lSd"
      },
      "source": [
        "### Step:3 🧮 Exploratory Data Analysis (EDA) with Python"
      ]
    },
    {
      "cell_type": "markdown",
      "metadata": {
        "id": "oKMoFEdNBM-p"
      },
      "source": [
        "* Understanding the shape and structure of the data"
      ]
    },
    {
      "cell_type": "code",
      "execution_count": null,
      "metadata": {
        "id": "Qic9gc8zBGjB"
      },
      "outputs": [],
      "source": [
        "# Display first few rows\n",
        "print(df.head())\n",
        "\n",
        "# Check shape of dataset\n",
        "print(df.shape)\n",
        "\n",
        "# Summary of column types and missing values\n",
        "print(df.info())\n",
        "\n",
        "# Basic statistics for numeric columns\n",
        "print(df.describe())\n"
      ]
    },
    {
      "cell_type": "markdown",
      "metadata": {
        "id": "5gYmvsD5Bmsh"
      },
      "source": [
        "* Identifying missing values or unusual values"
      ]
    },
    {
      "cell_type": "code",
      "execution_count": null,
      "metadata": {
        "id": "N-hiunsvCAwi"
      },
      "outputs": [],
      "source": [
        "# Count missing values in each column\n",
        "print(df.isnull().sum())\n",
        "\n",
        "# Optional: visualize missing data\n",
        "import seaborn as sns\n",
        "import matplotlib.pyplot as plt\n",
        "\n",
        "sns.heatmap(df.isnull(), cbar=False, cmap=\"viridis\")\n",
        "plt.title(\"Missing Values Heatmap\")\n",
        "plt.show()\n"
      ]
    },
    {
      "cell_type": "markdown",
      "metadata": {
        "id": "h7niqJLeCTqO"
      },
      "source": [
        "# Checking distribution of Mean_Estimate, CI_Width, etc."
      ]
    },
    {
      "cell_type": "code",
      "execution_count": null,
      "metadata": {
        "id": "IWieMEvLCdb8"
      },
      "outputs": [],
      "source": [
        "# Histogram of Mean_Estimate\n",
        "sns.histplot(df['Mean_Estimate'], bins=10, kde=True)\n",
        "plt.title(\"Distribution of Mean_Estimate\")\n",
        "plt.show()\n",
        "\n",
        "# Distribution of CI_Width\n",
        "sns.histplot(df['CI_Width'], bins=10, kde=True)\n",
        "plt.title(\"Distribution of CI_Width\")\n",
        "plt.show()\n"
      ]
    },
    {
      "cell_type": "markdown",
      "metadata": {
        "id": "03uXSkeMCuGZ"
      },
      "source": [
        "# *Analyzing trends across years, regions, or demographic groups"
      ]
    },
    {
      "cell_type": "code",
      "execution_count": null,
      "metadata": {
        "id": "Jh_ADqGJD0Ra"
      },
      "outputs": [],
      "source": [
        "import pandas as pd\n",
        "import matplotlib.pyplot as plt\n",
        "import seaborn as sns\n",
        "\n",
        "# Average Mean_Estimate per year\n",
        "yearly_trend = df.groupby('Year')['Mean_Estimate'].mean().reset_index()\n",
        "\n",
        "# Line plot\n",
        "plt.figure(figsize=(8,5))\n",
        "sns.lineplot(x='Year', y='Mean_Estimate', data=yearly_trend, marker='o')\n",
        "plt.title('Average Mean_Estimate Over Years')\n",
        "plt.ylabel('Mean_Estimate (%)')\n",
        "plt.show()\n"
      ]
    },
    {
      "cell_type": "code",
      "execution_count": null,
      "metadata": {
        "id": "jsjfA8v9Dz83"
      },
      "outputs": [],
      "source": [
        "sns.lineplot(x='Year', y='Mean_Estimate', hue='Age_Group', data=df, marker='o')\n",
        "plt.title('Mean_Estimate Trends by Age Group')\n",
        "plt.show()"
      ]
    },
    {
      "cell_type": "markdown",
      "metadata": {
        "id": "RjW3K5kiEol6"
      },
      "source": [
        "### REGIONS"
      ]
    },
    {
      "cell_type": "code",
      "execution_count": null,
      "metadata": {
        "id": "xIxxVZD3DyC4"
      },
      "outputs": [],
      "source": [
        "# Average Mean_Estimate per region\n",
        "region_trend = df.groupby('Region')['Mean_Estimate'].mean().sort_values()\n",
        "\n",
        "# Bar plot\n",
        "plt.figure(figsize=(10,5))\n",
        "sns.barplot(x=region_trend.index, y=region_trend.values)\n",
        "plt.xticks(rotation=45)\n",
        "plt.title('Average Mean_Estimate by Region')\n",
        "plt.ylabel('Mean_Estimate (%)')\n",
        "plt.show()\n"
      ]
    },
    {
      "cell_type": "code",
      "execution_count": null,
      "metadata": {
        "id": "LwQlOTD9E9lh"
      },
      "outputs": [],
      "source": [
        "region_year_trend = df.groupby(['Region','Year'])['Mean_Estimate'].mean().reset_index()\n",
        "\n",
        "plt.figure(figsize=(10,6))\n",
        "sns.lineplot(x='Year', y='Mean_Estimate', hue='Region', data=region_year_trend, marker='o')\n",
        "plt.title('Mean_Estimate Trends by Region Over Years')\n",
        "plt.show()"
      ]
    },
    {
      "cell_type": "markdown",
      "metadata": {
        "id": "WjDh_syCFt4r"
      },
      "source": [
        "### demographic groups"
      ]
    },
    {
      "cell_type": "code",
      "execution_count": null,
      "metadata": {
        "id": "BltDvU7-FLAg"
      },
      "outputs": [],
      "source": [
        "# Average Mean_Estimate by age_group\n",
        "age_trend = df.groupby('Age_Group')['Mean_Estimate'].mean()\n",
        "\n",
        "sns.barplot(x=age_trend.index, y=age_trend.values)\n",
        "plt.title('Average Mean_Estimate by Age Group')\n",
        "plt.ylabel('Mean_Estimate (%)')\n",
        "plt.show()\n",
        "\n",
        "# If malnutrition_level exists\n",
        "if 'malnutrition_level' in df.columns:\n",
        "    malnutrition_trend = df.groupby('malnutrition_level')['Mean_Estimate'].mean()\n",
        "    sns.barplot(x=malnutrition_trend.index, y=malnutrition_trend.values, palette='viridis')\n",
        "    plt.title('Mean_Estimate by Malnutrition Level')\n",
        "    plt.ylabel('Mean_Estimate (%)')\n",
        "    plt.show()"
      ]
    },
    {
      "cell_type": "markdown",
      "metadata": {
        "id": "8Lkzr9PRGGkU"
      },
      "source": [
        "Comparing obesity vs malnutrition distributions"
      ]
    },
    {
      "cell_type": "code",
      "execution_count": null,
      "metadata": {
        "id": "GGgY75A6yYYu"
      },
      "outputs": [],
      "source": [
        "import pandas as pd\n",
        "import seaborn as sns\n",
        "import matplotlib.pyplot as plt\n",
        "\n",
        "# Add a label column\n",
        "df_obesity['Type'] = 'Obesity'\n",
        "df_malnutrition['Type'] = 'Malnutrition'\n",
        "\n",
        "# Select relevant columns and rename before concatenating\n",
        "columns_needed = ['TimeDim', 'NumericValue', 'age_group', 'ParentLocation', 'Type']\n",
        "df_obesity_cleaned = df_obesity[columns_needed].copy()\n",
        "df_malnutrition_cleaned = df_malnutrition[columns_needed].copy()\n",
        "\n",
        "df_obesity_cleaned = df_obesity_cleaned.rename(columns={'TimeDim': 'Year', 'NumericValue': 'Mean_Estimate', 'ParentLocation': 'Region'})\n",
        "df_malnutrition_cleaned = df_malnutrition_cleaned.rename(columns={'TimeDim': 'Year', 'NumericValue': 'Mean_Estimate', 'ParentLocation': 'Region'})\n",
        "\n",
        "# Combine them\n",
        "df_combined = pd.concat([df_obesity_cleaned, df_malnutrition_cleaned], ignore_index=True)"
      ]
    },
    {
      "cell_type": "markdown",
      "metadata": {
        "id": "RpMppIPAGqrd"
      },
      "source": [
        "# Distribution Comparison: Histograms / KDE"
      ]
    },
    {
      "cell_type": "code",
      "execution_count": null,
      "metadata": {
        "id": "ObsuOg-GyQdY"
      },
      "outputs": [],
      "source": [
        "plt.figure(figsize=(10,6))\n",
        "sns.histplot(\n",
        "    data=df_combined,\n",
        "    x='Mean_Estimate',\n",
        "    hue='Type',\n",
        "    kde=True,            # adds KDE curve\n",
        "    stat='density',      # normalize\n",
        "    common_norm=False,   # normalize separately\n",
        "    element='step',\n",
        "    alpha=0.5\n",
        ")\n",
        "\n",
        "plt.title('Distribution Comparison: Obesity vs Malnutrition')\n",
        "plt.xlabel('Mean Estimate (%)')\n",
        "plt.ylabel('Density')\n",
        "plt.legend(title='Type')\n",
        "plt.show()"
      ]
    },
    {
      "cell_type": "markdown",
      "metadata": {
        "id": "_7FMhuyMG6Vk"
      },
      "source": [
        "### Boxplot Comparison"
      ]
    },
    {
      "cell_type": "code",
      "execution_count": null,
      "metadata": {
        "id": "HZd4n1ZtG8sc"
      },
      "outputs": [],
      "source": [
        "plt.figure(figsize=(8,5))\n",
        "sns.boxplot(x='Type', y='Mean_Estimate', data=df_combined, palette=['#FF6347','#4682B4'])\n",
        "plt.title('Boxplot of Mean_Estimate by Type')\n",
        "plt.ylabel('Mean_Estimate (%)')\n",
        "plt.show()"
      ]
    },
    {
      "cell_type": "markdown",
      "metadata": {
        "id": "V-4ZPmM9HLre"
      },
      "source": [
        "### Regional Comparison"
      ]
    },
    {
      "cell_type": "code",
      "execution_count": null,
      "metadata": {
        "id": "7IIqea3AI--g"
      },
      "outputs": [],
      "source": [
        "plt.figure(figsize=(12,6))\n",
        "sns.barplot(x='Region', y='Mean_Estimate', hue='Type', data=df_combined, errorbar=None)\n",
        "plt.xticks(rotation=45)\n",
        "plt.title('Average Mean_Estimate by Region: Obesity vs Malnutrition')\n",
        "plt.ylabel('Mean_Estimate (%)')\n",
        "plt.show()"
      ]
    },
    {
      "cell_type": "markdown",
      "metadata": {
        "id": "xr4nSnv8K-k8"
      },
      "source": [
        "Try different visualizations using Matplotlib or Seaborn or Plotly to uncover interesting patterns\n",
        "* Line plots to explore trends over time"
      ]
    },
    {
      "cell_type": "code",
      "execution_count": null,
      "metadata": {
        "id": "v1jWYzXRK2jq"
      },
      "outputs": [],
      "source": [
        "import matplotlib.pyplot as plt\n",
        "import seaborn as sns\n",
        "\n",
        "# Average Mean_Estimate over years\n",
        "yearly_trend = df_combined.groupby('Year')['Mean_Estimate'].mean().reset_index()\n",
        "\n",
        "plt.figure(figsize=(8,5))\n",
        "sns.lineplot(x='Year', y='Mean_Estimate', data=yearly_trend, marker='o')\n",
        "plt.title('Average Mean_Estimate Over Years')\n",
        "plt.ylabel('Mean_Estimate (%)')\n",
        "plt.show()\n",
        "\n",
        "# By age group\n",
        "plt.figure(figsize=(8,5))\n",
        "sns.lineplot(x='Year', y='Mean_Estimate', hue='age_group', data=df_combined, marker='o')\n",
        "plt.title('Trends by Age Group')\n",
        "plt.show()"
      ]
    },
    {
      "cell_type": "markdown",
      "metadata": {
        "id": "t5r_n7IcLRVU"
      },
      "source": [
        "* Bar charts to compare top/bottom countries or regions"
      ]
    },
    {
      "cell_type": "code",
      "execution_count": null,
      "metadata": {
        "id": "CUzpdrsdLWCe"
      },
      "outputs": [],
      "source": [
        "# Top 5 countries with highest Mean_Estimate\n",
        "top_countries = df.groupby('Country')['Mean_Estimate'].mean().sort_values(ascending=False).head(5)\n",
        "\n",
        "plt.figure(figsize=(8,5))\n",
        "sns.barplot(x=top_countries.index, y=top_countries.values, palette='viridis')\n",
        "plt.title('Top 5 Countries by Mean_Estimate')\n",
        "plt.ylabel('Mean_Estimate (%)')\n",
        "plt.show()\n",
        "\n",
        "# Bottom 5\n",
        "bottom_countries = df.groupby('Country')['Mean_Estimate'].mean().sort_values().head(5)\n",
        "plt.figure(figsize=(8,5))\n",
        "sns.barplot(x=bottom_countries.index, y=bottom_countries.values, palette='magma')\n",
        "plt.title('Bottom 5 Countries by Mean_Estimate')\n",
        "plt.show()"
      ]
    },
    {
      "cell_type": "markdown",
      "metadata": {
        "id": "xpfLoO25LiAA"
      },
      "source": [
        "* Box plots to observe variability by region"
      ]
    },
    {
      "cell_type": "code",
      "execution_count": null,
      "metadata": {
        "id": "rqW3JxJJLo2J"
      },
      "outputs": [],
      "source": [
        "plt.figure(figsize=(10,5))\n",
        "sns.boxplot(x='Region', y='Mean_Estimate', data=df)\n",
        "plt.title('Variability by Region')\n",
        "plt.xticks(rotation=45)\n",
        "plt.show()\n",
        "\n",
        "# By Age Group\n",
        "sns.boxplot(x='Age_Group', y='Mean_Estimate', data=df)\n",
        "plt.title('Variability by Age Group')\n",
        "plt.show()"
      ]
    },
    {
      "cell_type": "markdown",
      "metadata": {
        "id": "7L1pkha2MUQx"
      },
      "source": [
        "# * Heatmaps or scatter plots to identify patterns and outliers"
      ]
    },
    {
      "cell_type": "code",
      "execution_count": null,
      "metadata": {
        "id": "OaRkhtzHMapS"
      },
      "outputs": [],
      "source": [
        "# Pivot table for heatmap\n",
        "heatmap_data = df.pivot_table(values='Mean_Estimate', index='Region', columns='Year', aggfunc='mean')\n",
        "\n",
        "plt.figure(figsize=(12,6))\n",
        "sns.heatmap(heatmap_data, annot=True, fmt=\".1f\", cmap='YlOrRd')\n",
        "plt.title('Heatmap of Mean_Estimate by Region and Year')\n",
        "plt.show()"
      ]
    },
    {
      "cell_type": "markdown",
      "metadata": {
        "id": "pGT-M9dTMt2b"
      },
      "source": [
        "**scatter plots to identify patterns"
      ]
    },
    {
      "cell_type": "code",
      "execution_count": null,
      "metadata": {
        "id": "73rTbvepMlV8"
      },
      "outputs": [],
      "source": [
        "plt.figure(figsize=(8,5))\n",
        "sns.scatterplot(x='CI_Width', y='Mean_Estimate', hue='Region', data=df, s=100)\n",
        "plt.title('Mean_Estimate vs CI_Width by Region')\n",
        "plt.show()"
      ]
    },
    {
      "cell_type": "markdown",
      "metadata": {
        "id": "eR_gcvRCM224"
      },
      "source": [
        "** Optional: Plotly Interactive Visuals"
      ]
    },
    {
      "cell_type": "code",
      "execution_count": null,
      "metadata": {
        "id": "rxMLDlC0NCL6"
      },
      "outputs": [],
      "source": [
        "import plotly.express as px\n",
        "\n",
        "# Interactive line plot over years\n",
        "fig = px.line(df, x='Year', y='Mean_Estimate', color='Age_Group', markers=True, title='Trends Over Time')\n",
        "fig.show()\n",
        "\n",
        "# Interactive scatter\n",
        "fig2 = px.scatter(df, x='CI_Width', y='Mean_Estimate', color='Region', size='Mean_Estimate',\n",
        "                  hover_data=['Country'], title='Mean_Estimate vs CI_Width')\n",
        "fig2.show()"
      ]
    },
    {
      "cell_type": "markdown",
      "metadata": {
        "id": "7z6P5YFCO7rA"
      },
      "source": [
        "***Step 4: Insert Data into SQL\n",
        "* SQLite\n",
        "**1. Import Libraries"
      ]
    },
    {
      "cell_type": "code",
      "execution_count": null,
      "metadata": {
        "id": "gGjAH4wBRa1K"
      },
      "outputs": [],
      "source": [
        "import sqlite3\n",
        "import pandas as pd"
      ]
    },
    {
      "cell_type": "markdown",
      "metadata": {
        "id": "WCUXOUUfRsag"
      },
      "source": [
        "2. Connect to SQLite Database"
      ]
    },
    {
      "cell_type": "code",
      "execution_count": null,
      "metadata": {
        "id": "5L4RQxJrRrzc"
      },
      "outputs": [],
      "source": [
        "# Connect to SQLite (creates 'health_data.db' if not exists)\n",
        "conn = sqlite3.connect('health_data.db')\n",
        "\n",
        "# Create a cursor object\n",
        "cursor = conn.cursor()"
      ]
    },
    {
      "cell_type": "markdown",
      "metadata": {
        "id": "bIy732TwR20z"
      },
      "source": [
        "3. Create Table (if not exists)"
      ]
    },
    {
      "cell_type": "code",
      "execution_count": null,
      "metadata": {
        "id": "aPc-SXZYR8rH"
      },
      "outputs": [],
      "source": [
        "create_table_query = \"\"\"\n",
        "CREATE TABLE IF NOT EXISTS health_data (\n",
        "    Country TEXT,\n",
        "    Region TEXT,\n",
        "    Year INTEGER,\n",
        "    Indicator TEXT,\n",
        "    Mean_Estimate REAL,\n",
        "    LowerBound REAL,\n",
        "    UpperBound REAL,\n",
        "    Value REAL,\n",
        "    age_group TEXT,\n",
        "    CI_Width REAL\n",
        ");\n",
        "\"\"\"\n",
        "\n",
        "cursor.execute(create_table_query)\n",
        "conn.commit()"
      ]
    },
    {
      "cell_type": "markdown",
      "metadata": {
        "id": "lX4PINdVSDhL"
      },
      "source": [
        "4. Insert Data from Pandas DataFrame"
      ]
    },
    {
      "cell_type": "code",
      "execution_count": null,
      "metadata": {
        "id": "ahx3MqZMSIFZ"
      },
      "outputs": [],
      "source": [
        "# Assuming df is your cleaned dataframe\n",
        "df.to_sql('health_data', conn, if_exists='replace', index=False)\n",
        "\n",
        "print(\"Data inserted successfully!\")"
      ]
    },
    {
      "cell_type": "markdown",
      "metadata": {
        "id": "BeqW2Rj5SOOX"
      },
      "source": [
        "5. Query Data to Verify"
      ]
    },
    {
      "cell_type": "code",
      "execution_count": null,
      "metadata": {
        "id": "M-ObCWvdSNqA"
      },
      "outputs": [],
      "source": [
        "# Simple query to check inserted data\n",
        "query_result = pd.read_sql(\"SELECT * FROM health_data LIMIT 5;\", conn)\n",
        "print(query_result)"
      ]
    },
    {
      "cell_type": "markdown",
      "metadata": {
        "id": "6A4v03UaSnzm"
      },
      "source": [
        "6. Close Connection"
      ]
    },
    {
      "cell_type": "code",
      "execution_count": null,
      "metadata": {
        "id": "Xllds8ogSr0r"
      },
      "outputs": [],
      "source": [
        "conn.close()"
      ]
    },
    {
      "cell_type": "markdown",
      "metadata": {
        "id": "mvUJau83T4cY"
      },
      "source": [
        "**Create 2 tables using Python code\n",
        "*obesity\n",
        "*malnutrition\n"
      ]
    },
    {
      "cell_type": "code",
      "execution_count": null,
      "metadata": {
        "id": "Rb8LMEzoT-pU"
      },
      "outputs": [],
      "source": [
        "import sqlite3\n",
        "import pandas as pd\n",
        "\n",
        "# Example: assuming df_obesity and df_malnutrition are your cleaned 10-column datasets\n",
        "# df_obesity.head(), df_malnutrition.head() should have columns:\n",
        "# ['Country', 'Region', 'Year', 'Indicator', 'Mean_Estimate',\n",
        "#  'LowerBound', 'UpperBound', 'Value', 'age_group', 'CI_Width']\n",
        "\n",
        "# 1️⃣ Connect to SQLite database\n",
        "conn = sqlite3.connect('health_data.db')\n",
        "cursor = conn.cursor()\n",
        "\n",
        "# 2️⃣ Create obesity table\n",
        "cursor.execute(\"\"\"\n",
        "CREATE TABLE IF NOT EXISTS obesity (\n",
        "    Country TEXT,\n",
        "    Region TEXT,\n",
        "    Year INTEGER,\n",
        "    Indicator TEXT,\n",
        "    Mean_Estimate REAL,\n",
        "    LowerBound REAL,\n",
        "    UpperBound REAL,\n",
        "    Value REAL,\n",
        "    age_group TEXT,\n",
        "    CI_Width REAL\n",
        ");\n",
        "\"\"\")\n",
        "\n",
        "# 3️⃣ Create malnutrition table\n",
        "cursor.execute(\"\"\"\n",
        "CREATE TABLE IF NOT EXISTS malnutrition (\n",
        "    Country TEXT,\n",
        "    Region TEXT,\n",
        "    Year INTEGER,\n",
        "    Indicator TEXT,\n",
        "    Mean_Estimate REAL,\n",
        "    LowerBound REAL,\n",
        "    UpperBound REAL,\n",
        "    Value REAL,\n",
        "    age_group TEXT,\n",
        "    CI_Width REAL\n",
        ");\n",
        "\"\"\")\n",
        "\n",
        "conn.commit()\n",
        "\n",
        "# 4️⃣ Insert data into obesity table\n",
        "df_obesity.to_sql('obesity', conn, if_exists='replace', index=False)\n",
        "\n",
        "# 5️⃣ Insert data into malnutrition table\n",
        "df_malnutrition.to_sql('malnutrition', conn, if_exists='replace', index=False)\n",
        "\n",
        "print(\"Both tables created and data inserted successfully!\")\n",
        "\n",
        "# 6️⃣ Optional: verify\n",
        "print(pd.read_sql(\"SELECT * FROM obesity LIMIT 5;\", conn))\n",
        "print(pd.read_sql(\"SELECT * FROM malnutrition LIMIT 5;\", conn))\n",
        "\n",
        "# 7️⃣ Close connection\n",
        "conn.close()"
      ]
    },
    {
      "cell_type": "markdown",
      "metadata": {
        "id": "APlp5OPfUOaD"
      },
      "source": [
        "5. Insert Cleaned Data\n",
        "*Insert rows from your final DataFrames (df_obesity and df_malnutrition) into the respective tables using .iterrows() in a for loop.\n"
      ]
    },
    {
      "cell_type": "code",
      "execution_count": null,
      "metadata": {
        "id": "SiAwpTbXIyLi"
      },
      "outputs": [],
      "source": [
        "import sqlite3\n",
        "import pandas as pd\n",
        "import pycountry\n",
        "\n",
        "# Example: assuming df_obesity and df_malnutrition are your cleaned 10-column datasets\n",
        "# df_obesity.head(), df_malnutrition.head() should have columns:\n",
        "# ['Country', 'Region', 'Year', 'Indicator', 'Mean_Estimate',\n",
        "#  'LowerBound', 'UpperBound', 'Value', 'age_group', 'CI_Width']\n",
        "\n",
        "# 1️⃣ Connect to SQLite database\n",
        "conn = sqlite3.connect('health_data.db')\n",
        "cursor = conn.cursor()\n",
        "\n",
        "# 2️⃣ Create obesity table\n",
        "cursor.execute(\"\"\"\n",
        "CREATE TABLE IF NOT EXISTS obesity (\n",
        "    Country TEXT,\n",
        "    Region TEXT,\n",
        "    Year INTEGER,\n",
        "    Gender TEXT,\n",
        "    Mean_Estimate REAL,\n",
        "    LowerBound REAL,\n",
        "    UpperBound REAL,\n",
        "    Value REAL,\n",
        "    age_group TEXT,\n",
        "    CI_Width REAL,\n",
        "    obesity_level TEXT\n",
        ");\n",
        "\"\"\")\n",
        "\n",
        "# 3️⃣ Create malnutrition table\n",
        "cursor.execute(\"\"\"\n",
        "CREATE TABLE IF NOT EXISTS malnutrition (\n",
        "    Country TEXT,\n",
        "    Region TEXT,\n",
        "    Year INTEGER,\n",
        "    Indicator TEXT,\n",
        "    Mean_Estimate REAL,\n",
        "    LowerBound REAL,\n",
        "    UpperBound REAL,\n",
        "    Value REAL,\n",
        "    age_group TEXT,\n",
        "    CI_Width REAL,\n",
        "    malnutrition_level TEXT\n",
        ");\n",
        "\"\"\")\n",
        "\n",
        "conn.commit()\n",
        "\n",
        "\n",
        "# Dictionary for special or regional codes\n",
        "special_regions = {\n",
        "    'GLOBAL': 'Global',\n",
        "    'AFR': 'Africa',\n",
        "    'AMR': 'Americas',\n",
        "    'EMR': 'Eastern Mediterranean Region',\n",
        "    'EUR': 'Europe',\n",
        "    'SEAR': 'South-East Asia Region',\n",
        "    'WPR': 'Western Pacific Region',\n",
        "    'WB_LMI': 'Low & Middle Income',\n",
        "    'WB_HI': 'High Income',\n",
        "    'WB_LI': 'Low Income',\n",
        "    'WB_UMI': 'Upper Middle Income'\n",
        "}\n",
        "\n",
        "def convert_country(code):\n",
        "    if not code:\n",
        "        return \"Unknown\"\n",
        "\n",
        "    code = str(code).upper()\n",
        "\n",
        "    # 1️⃣ Check special codes\n",
        "    if code in special_regions:\n",
        "        return special_regions[code]\n",
        "\n",
        "    # 2️⃣ Try pycountry for standard ISO 3-letter country codes\n",
        "    try:\n",
        "        country = pycountry.countries.get(alpha_3=code)\n",
        "        if country:\n",
        "            return country.name\n",
        "    except AttributeError:\n",
        "        pass # Ignore error if code is not alpha_3\n",
        "\n",
        "    # 3️⃣ Fallback for unmatched codes\n",
        "    return \"Unmatched\"\n",
        "\n",
        "def get_region(code):\n",
        "    code = str(code).upper()\n",
        "    return special_regions.get(code, 'Unknown')  # WHO region or 'Unknown'\n",
        "\n",
        "\n",
        "# Apply cleaning and feature engineering to df_obesity\n",
        "df_obesity = df_obesity.rename(columns={\n",
        "    \"TimeDim\": \"Year\",\n",
        "    \"Dim1\": \"Gender\",\n",
        "    \"NumericValue\": \"Mean_Estimate\",\n",
        "    \"Low\": \"LowerBound\",\n",
        "    \"High\": \"UpperBound\",\n",
        "    \"ParentLocation\": \"Region\",\n",
        "    \"SpatialDim\": \"Country\"\n",
        "})\n",
        "\n",
        "df_obesity[\"Country\"] = df_obesity[\"Country\"].apply(convert_country)\n",
        "df_obesity['Region'] = df_obesity['ParentLocationCode'].apply(get_region)\n",
        "df_obesity['CI_Width'] = df_obesity['UpperBound'] - df_obesity['LowerBound']\n",
        "\n",
        "def categorize_obesity(x):\n",
        "    if x >= 30:\n",
        "        return 'High'\n",
        "    elif 25 <= x < 30:\n",
        "        return 'Moderate'\n",
        "    else:\n",
        "        return 'Low'\n",
        "\n",
        "df_obesity['obesity_level'] = df_obesity['Mean_Estimate'].apply(categorize_obesity)\n",
        "\n",
        "\n",
        "# Apply cleaning and feature engineering to df_malnutrition\n",
        "df_malnutrition = df_malnutrition.rename(columns={\n",
        "    \"TimeDim\": \"Year\",\n",
        "    \"Dim1\": \"Indicator\",\n",
        "    \"NumericValue\": \"Mean_Estimate\",\n",
        "    \"Low\": \"LowerBound\",\n",
        "    \"High\": \"UpperBound\",\n",
        "    \"ParentLocation\": \"Region\",\n",
        "    \"SpatialDim\": \"Country\"\n",
        "})\n",
        "\n",
        "df_malnutrition[\"Country\"] = df_malnutrition[\"Country\"].apply(convert_country)\n",
        "df_malnutrition['Region'] = df_malnutrition['ParentLocationCode'].apply(get_region)\n",
        "df_malnutrition['CI_Width'] = df_malnutrition['UpperBound'] - df_malnutrition['LowerBound']\n",
        "\n",
        "def categorize_malnutrition(x):\n",
        "    if x >= 20:\n",
        "        return 'High'\n",
        "    elif 10 <= x < 20:\n",
        "        return 'Moderate'\n",
        "    else:\n",
        "        return 'Low'\n",
        "\n",
        "df_malnutrition['malnutrition_level'] = df_malnutrition['Mean_Estimate'].apply(categorize_malnutrition)\n",
        "\n",
        "\n",
        "# Select only the columns needed for the database\n",
        "obesity_columns = ['Country', 'Region', 'Year', 'Gender', 'Mean_Estimate',\n",
        "                   'LowerBound', 'UpperBound', 'Value', 'age_group', 'CI_Width', 'obesity_level']\n",
        "malnutrition_columns = ['Country', 'Region', 'Year', 'Indicator', 'Mean_Estimate',\n",
        "                        'LowerBound', 'UpperBound', 'Value', 'age_group', 'CI_Width', 'malnutrition_level']\n",
        "\n",
        "df_obesity = df_obesity[obesity_columns]\n",
        "df_malnutrition = df_malnutrition[malnutrition_columns]\n",
        "\n",
        "\n",
        "# 4️⃣ Insert data into obesity table\n",
        "df_obesity.to_sql('obesity', conn, if_exists='replace', index=False)\n",
        "\n",
        "# 5️⃣ Insert data into malnutrition table\n",
        "df_malnutrition.to_sql('malnutrition', conn, if_exists='replace', index=False)\n",
        "\n",
        "print(\"✅ Both tables created and data inserted successfully using to_sql()!\")\n",
        "\n",
        "# 6️⃣ Optional: verify\n",
        "print(pd.read_sql(\"SELECT * FROM obesity LIMIT 5;\", conn))\n",
        "print(pd.read_sql(\"SELECT * FROM malnutrition LIMIT 5;\", conn))\n",
        "\n",
        "# 7️⃣ Close connection\n",
        "conn.close()"
      ]
    },
    {
      "cell_type": "markdown",
      "metadata": {
        "id": "O_UN7SNxJgBO"
      },
      "source": [
        "### Step 4: Query Writing Streamlit\n",
        "🧋 Obesity Table (10 Queries)"
      ]
    },
    {
      "cell_type": "code",
      "source": [
        "!pip install streamlit\n",
        "!streamlit run app.py"
      ],
      "metadata": {
        "id": "DUcUpdzU_-_z"
      },
      "execution_count": null,
      "outputs": []
    },
    {
      "cell_type": "markdown",
      "metadata": {
        "id": "M4KfewHEJ6Qp"
      },
      "source": [
        "# 1. Top 5 regions with the highest average obesity levels in the most recent year(2022)"
      ]
    },
    {
      "cell_type": "code",
      "source": [
        "import sqlite3\n",
        "import pandas as pd\n",
        "import streamlit as st\n",
        "\n",
        "# Connect to SQLite database\n",
        "conn = sqlite3.connect('health_data.db')\n",
        "\n",
        "# SQL query to find top 5 regions\n",
        "query = \"\"\"\n",
        "SELECT Region, AVG(Mean_Estimate) AS Avg_Obesity\n",
        "FROM obesity\n",
        "WHERE Year = 2022\n",
        "GROUP BY Region\n",
        "ORDER BY Avg_Obesity DESC\n",
        "LIMIT 5;\n",
        "\"\"\"\n",
        "\n",
        "# Execute query and show results\n",
        "top5_regions = pd.read_sql(query, conn)\n",
        "\n",
        "st.write(\"🌍 **Top 5 Regions with Highest Average Obesity Levels in 2022**\")\n",
        "st.dataframe(top5_regions)\n",
        "st.bar_chart(top5_regions.set_index(\"Region\"))"
      ],
      "metadata": {
        "id": "6zNUiZ50Y1vb"
      },
      "execution_count": null,
      "outputs": []
    },
    {
      "cell_type": "markdown",
      "metadata": {
        "id": "2_G6zb9BKdDp"
      },
      "source": [
        "2. Top 5 countries with highest obesity estimates"
      ]
    },
    {
      "cell_type": "code",
      "source": [
        "conn = sqlite3.connect('health_data.db')\n",
        "query = \"\"\"\n",
        "SELECT\n",
        "    Country,\n",
        "    ROUND(AVG(Mean_Estimate), 2) AS Avg_Obesity_Level\n",
        "FROM obesity\n",
        "GROUP BY Country\n",
        "ORDER BY Avg_Obesity_Level DESC\n",
        "LIMIT 5;\n",
        "\"\"\"\n",
        "\n",
        "top5_countries = pd.read_sql(query, conn)\n",
        "\n",
        "# Display results\n",
        "print(\"🌍 Top 5 Countries with Highest Average Obesity Estimates:\")\n",
        "print(top5_countries)\n",
        "\n",
        "conn.close()"
      ],
      "metadata": {
        "id": "vtRJHif6wQr1"
      },
      "execution_count": null,
      "outputs": []
    },
    {
      "cell_type": "markdown",
      "metadata": {
        "id": "dwn28ii8KwiH"
      },
      "source": [
        "3. Obesity trend in India over the years(Mean_estimate)"
      ]
    },
    {
      "cell_type": "code",
      "execution_count": null,
      "metadata": {
        "id": "DNnWdUJIK7Du"
      },
      "outputs": [],
      "source": [
        "# Connect to the database\n",
        "conn = sqlite3.connect('health_data.db')\n",
        "\n",
        "# Run query\n",
        "query = \"\"\"\n",
        "SELECT\n",
        "    Year,\n",
        "    ROUND(AVG(Mean_Estimate), 2) AS Avg_Obesity_Level\n",
        "FROM obesity\n",
        "WHERE Country = 'India'\n",
        "GROUP BY Year\n",
        "ORDER BY Year ASC;\n",
        "\"\"\"\n",
        "\n",
        "india_trend = pd.read_sql(query, conn)\n",
        "\n",
        "# Display data\n",
        "print(\"📊 Obesity Trend in India Over the Years:\")\n",
        "print(india_trend)\n",
        "\n",
        "# Plot tr"
      ]
    },
    {
      "cell_type": "markdown",
      "metadata": {
        "id": "fH-3SdxCLBLl"
      },
      "source": [
        "4. Average obesity by gender"
      ]
    },
    {
      "cell_type": "code",
      "execution_count": null,
      "metadata": {
        "id": "3Eo7V1u2LJ6I"
      },
      "outputs": [],
      "source": [
        "# Connect to SQLite\n",
        "conn = sqlite3.connect('health_data.db')\n",
        "\n",
        "# Run query\n",
        "query = \"\"\"\n",
        "SELECT\n",
        "    Gender,\n",
        "    ROUND(AVG(Mean_Estimate), 2) AS Avg_Obesity_Level\n",
        "FROM obesity\n",
        "GROUP BY Gender\n",
        "ORDER BY Avg_Obesity_Level DESC;\n",
        "\"\"\"\n",
        "\n",
        "gender_obesity = pd.read_sql(query, conn)\n",
        "\n",
        "# Display table\n",
        "print(\"⚖️ Average Obesity by Gender:\")\n",
        "print(gender_obesity)\n",
        "\n",
        "# Plot bar chart\n",
        "plt.figure(figsize=(6,4))\n",
        "plt.bar(gender_obesity['Gender'], gender_obesity['Avg_Obesity_Level'], color='skyblue')\n",
        "plt.title('Average Obesity by Gender', fontsize=14)\n",
        "plt.xlabel('Gender')\n",
        "plt.ylabel('Average Obesity Level (%)')\n",
        "plt.grid(axis='y', linestyle='--', alpha=0.6)\n",
        "plt.show()\n",
        "\n",
        "conn.close()"
      ]
    },
    {
      "cell_type": "markdown",
      "metadata": {
        "id": "zWhpg3jBLgqQ"
      },
      "source": [
        "5. Country count by obesity level category and age group\n"
      ]
    },
    {
      "cell_type": "code",
      "execution_count": null,
      "metadata": {
        "id": "ZVWmpcPXLuEw"
      },
      "outputs": [],
      "source": [
        "# Connect to DB\n",
        "conn = sqlite3.connect('health_data.db')\n",
        "\n",
        "query = \"\"\"\n",
        "WITH categorized AS (\n",
        "    SELECT\n",
        "        Country,\n",
        "        age_group,\n",
        "        CASE\n",
        "            WHEN Mean_Estimate < 10 THEN 'Low'\n",
        "            WHEN Mean_Estimate BETWEEN 10 AND 20 THEN 'Moderate'\n",
        "            WHEN Mean_Estimate BETWEEN 20 AND 30 THEN 'High'\n",
        "            ELSE 'Very High'\n",
        "        END AS Obesity_Level_Category\n",
        "    FROM obesity\n",
        "    WHERE Year = 2022\n",
        ")\n",
        "SELECT\n",
        "    Obesity_Level_Category,\n",
        "    age_group,\n",
        "    COUNT(DISTINCT Country) AS Country_Count\n",
        "FROM categorized\n",
        "GROUP BY Obesity_Level_Category, age_group\n",
        "ORDER BY\n",
        "    CASE\n",
        "        WHEN Obesity_Level_Category = 'Low' THEN 1\n",
        "        WHEN Obesity_Level_Category = 'Moderate' THEN 2\n",
        "        WHEN Obesity_Level_Category = 'High' THEN 3\n",
        "        WHEN Obesity_Level_Category = 'Very High' THEN 4\n",
        "    END,\n",
        "    age_group;\n",
        "\"\"\"\n",
        "\n",
        "obesity_category = pd.read_sql(query, conn)\n",
        "\n",
        "print(\"🏳️ Country Count by Obesity Level Category and Age Group (2022):\")\n",
        "print(obesity_category)\n",
        "\n",
        "# Visualize\n",
        "plt.figure(figsize=(8,5))\n",
        "for group in obesity_category['age_group'].unique():\n",
        "    subset = obesity_category[obesity_category['age_group'] == group]\n",
        "    plt.bar(subset['Obesity_Level_Category'], subset['Country_Count'], label=group)\n",
        "\n",
        "plt.title('Country Count by Obesity Level Category and Age Group (2022)')\n",
        "plt.xlabel('Obesity Level Category')\n",
        "plt.ylabel('Number of Countries')\n",
        "plt.legend(title='Age Group')\n",
        "plt.grid(axis='y', linestyle='--', alpha=0.6) # Fixed the incomplete line\n",
        "plt.show()\n",
        "\n",
        "conn.close()"
      ]
    },
    {
      "cell_type": "markdown",
      "metadata": {
        "id": "ejhzHIW3MW94"
      },
      "source": [
        "6. Top 5 countries least reliable countries(with highest CI_Width) and Top 5 most consistent countries (smallest average CI_Width)"
      ]
    },
    {
      "cell_type": "code",
      "execution_count": null,
      "metadata": {
        "id": "GDyomBDDMuNm"
      },
      "outputs": [],
      "source": [
        "# Connect to the database\n",
        "conn = sqlite3.connect('health_data.db')\n",
        "\n",
        "# Top 5 least reliable (highest CI_Width)\n",
        "query_least_reliable = \"\"\"\n",
        "SELECT\n",
        "    Country,\n",
        "    ROUND(AVG(CI_Width), 3) AS Avg_CI_Width\n",
        "FROM obesity\n",
        "GROUP BY Country\n",
        "ORDER BY Avg_CI_Width DESC\n",
        "LIMIT 5;\n",
        "\"\"\"\n",
        "\n",
        "least_reliable = pd.read_sql(query_least_reliable, conn)\n",
        "\n",
        "# Top 5 most consistent (lowest CI_Width)\n",
        "query_most_consistent = \"\"\"\n",
        "SELECT\n",
        "    Country,\n",
        "    ROUND(AVG(CI_Width), 3) AS Avg_CI_Width\n",
        "FROM obesity\n",
        "GROUP BY Country\n",
        "ORDER BY Avg_CI_Width ASC\n",
        "LIMIT 5;\n",
        "\"\"\"\n",
        "\n",
        "most_consistent = pd.read_sql(query_most_consistent, conn)\n",
        "\n",
        "print(\"⚠️ Top 5 Least Reliable Countries (Highest Average CI_Width):\")\n",
        "print(least_reliable)\n",
        "print(\"\\n✅ Top 5 Most Consistent Countries (Lowest Average CI_Width):\")\n",
        "print(most_consistent)\n",
        "\n",
        "conn.close()"
      ]
    },
    {
      "cell_type": "markdown",
      "metadata": {
        "id": "VdefFgefMx_u"
      },
      "source": [
        "7. Average obesity by age group"
      ]
    },
    {
      "cell_type": "code",
      "source": [
        "conn = sqlite3.connect('health_data.db')\n",
        "query = \"\"\"\n",
        "SELECT\n",
        "    Age_Group,\n",
        "    ROUND(AVG(Mean_Estimate), 2) AS Avg_Obesity_Level\n",
        "FROM obesity\n",
        "GROUP BY Age_Group\n",
        "ORDER BY Avg_Obesity_Level DESC;\n",
        "\"\"\"\n",
        "\n",
        "age_obesity = pd.read_sql(query, conn)\n",
        "\n",
        "plt.figure(figsize=(6, 4))\n",
        "plt.bar(age_obesity['age_group'], age_obesity['Avg_Obesity_Level'], color=['lightcoral', 'skyblue'])\n",
        "plt.title('Average Obesity by Age Group', fontsize=14)\n",
        "plt.xlabel('Age Group')\n",
        "plt.ylabel('Average Obesity Level (%)')\n",
        "plt.grid(axis='y', linestyle='--', alpha=0.6)\n",
        "plt.show()\n",
        "\n",
        "# st.dataframe(age_obesity) # This line is commented out to avoid error in Colab environment\n",
        "conn.close()"
      ],
      "metadata": {
        "id": "H3osdUqK73zZ"
      },
      "execution_count": null,
      "outputs": []
    },
    {
      "cell_type": "markdown",
      "metadata": {
        "id": "y0J8a05oNEiF"
      },
      "source": [
        "8. Top 10 Countries with consistent low obesity (low average + low CI)over the years"
      ]
    },
    {
      "cell_type": "code",
      "execution_count": null,
      "metadata": {
        "id": "T1yJlF1vNX4M"
      },
      "outputs": [],
      "source": [
        "# Connect to DB\n",
        "conn = sqlite3.connect('health_data.db')\n",
        "\n",
        "# Query top 10 countries with consistently low obesity & low CI_Width\n",
        "query = \"\"\"\n",
        "SELECT\n",
        "    Country,\n",
        "    ROUND(AVG(Mean_Estimate), 2) AS Avg_Obesity_Level,\n",
        "    ROUND(AVG(CI_Width), 3) AS Avg_CI_Width\n",
        "FROM obesity\n",
        "GROUP BY Country\n",
        "HAVING Avg_Obesity_Level IS NOT NULL\n",
        "ORDER BY Avg_Obesity_Level ASC, Avg_CI_Width ASC\n",
        "LIMIT 10;\n",
        "\"\"\"\n",
        "\n",
        "consistent_low_obesity = pd.read_sql(query, conn)\n",
        "\n",
        "# Display results\n",
        "print(\"🌿 Top 10 Countries with Consistent Low Obesity and High Data Reliability:\")\n",
        "print(consistent_low_obesity)\n",
        "\n",
        "# Visualization\n",
        "plt.figure(figsize=(8,5))\n",
        "plt.scatter(\n",
        "    consistent_low_obesity['Avg_Obesity_Level'],\n",
        "    consistent_low_obesity['Avg_CI_Width'],\n",
        "    color='mediumseagreen',\n",
        "    s=80\n",
        ")\n",
        "for i, row in consistent_low_obesity.iterrows():\n",
        "    plt.text(row['Avg_Obesity_Level']+0.1, row['Avg_CI_Width']+0.001, row['Country'], fontsize=9)\n",
        "\n",
        "plt.title('Top 10 Consistently Low-Obesity Countries (Low Mean + Low CI)', fontsize=13)\n",
        "plt.xlabel('Average Obesity Level (%)')\n",
        "plt.ylabel('Average CI Width')\n",
        "plt.grid(True, linestyle='--', alpha=0.6)\n",
        "plt.show()\n",
        "\n",
        "conn.close()"
      ]
    },
    {
      "cell_type": "markdown",
      "metadata": {
        "id": "EEQ8dTnfNlDH"
      },
      "source": [
        "9. Countries where female obesity exceeds male by large margin (same       year)"
      ]
    },
    {
      "cell_type": "code",
      "execution_count": null,
      "metadata": {
        "id": "ZGBzFDOrN0HU"
      },
      "outputs": [],
      "source": [
        "# Connect to database\n",
        "conn = sqlite3.connect('health_data.db')\n",
        "\n",
        "query = \"\"\"\n",
        "SELECT\n",
        "    f.Country,\n",
        "    f.Year,\n",
        "    ROUND(f.Mean_Estimate, 2) AS Female_Obesity,\n",
        "    ROUND(m.Mean_Estimate, 2) AS Male_Obesity,\n",
        "    ROUND(f.Mean_Estimate - m.Mean_Estimate, 2) AS Difference\n",
        "FROM obesity f\n",
        "JOIN obesity m\n",
        "    ON f.Country = m.Country\n",
        "    AND f.Year = m.Year\n",
        "WHERE f.Gender LIKE '%FMLE%'\n",
        "  AND m.Gender LIKE '%MLE%'\n",
        "  AND (f.Mean_Estimate - m.Mean_Estimate) > 5\n",
        "ORDER BY Difference DESC\n",
        "LIMIT 10;\n",
        "\"\"\"\n",
        "\n",
        "gender_gap = pd.read_sql(query, conn)\n",
        "\n",
        "print(\"💃 Countries Where Female Obesity Exceeds Male by Large Margin:\")\n",
        "print(gender_gap)\n",
        "\n",
        "conn.close()"
      ]
    },
    {
      "cell_type": "markdown",
      "metadata": {
        "id": "3r99r9FfONbO"
      },
      "source": [
        "10. Global average obesity percentage per year"
      ]
    },
    {
      "cell_type": "code",
      "execution_count": null,
      "metadata": {
        "id": "Rv2RWFjZOWLI"
      },
      "outputs": [],
      "source": [
        "# Connect to database\n",
        "conn = sqlite3.connect('health_data.db')\n",
        "\n",
        "# Query global average obesity per year\n",
        "query = \"\"\"\n",
        "SELECT\n",
        "    Year,\n",
        "    ROUND(AVG(Mean_Estimate), 2) AS Global_Avg_Obesity\n",
        "FROM obesity\n",
        "GROUP BY Year\n",
        "ORDER BY Year ASC;\n",
        "\"\"\"\n",
        "\n",
        "global_trend = pd.read_sql(query, conn)\n",
        "\n",
        "# Display results\n",
        "print(\"🌍 Global Average Obesity Percentage Per Year:\")\n",
        "print(global_trend)\n",
        "\n",
        "# Plot trend\n",
        "plt.figure(figsize=(8,5))\n",
        "plt.plot(global_trend['Year'], global_trend['Global_Avg_Obesity'], marker='o', color='mediumblue')\n",
        "plt.title('Global Average Obesity Percentage Per Year', fontsize=14)\n",
        "plt.xlabel('Year')\n",
        "plt.ylabel('Average Obesity (%)')\n",
        "plt.grid(True)\n",
        "plt.show()\n",
        "\n",
        "conn.close()"
      ]
    },
    {
      "cell_type": "markdown",
      "metadata": {
        "id": "uXo8AK5NOrau"
      },
      "source": [
        "### 👾 Malnutrition Table (10 Queries)"
      ]
    },
    {
      "cell_type": "markdown",
      "metadata": {
        "id": "7YOnkGkGOv6g"
      },
      "source": [
        "1. Avg. malnutrition by age group"
      ]
    },
    {
      "cell_type": "code",
      "execution_count": null,
      "metadata": {
        "id": "-lyoYtZBOq4H"
      },
      "outputs": [],
      "source": [
        "# Connect to database\n",
        "conn = sqlite3.connect('health_data.db')\n",
        "\n",
        "# Query average malnutrition by age group\n",
        "query = \"\"\"\n",
        "SELECT\n",
        "    age_group,\n",
        "    ROUND(AVG(Mean_Estimate), 2) AS Avg_Malnutrition\n",
        "FROM malnutrition\n",
        "GROUP BY age_group\n",
        "ORDER BY Avg_Malnutrition DESC;\n",
        "\"\"\"\n",
        "\n",
        "age_malnutrition = pd.read_sql(query, conn)\n",
        "\n",
        "# Display results\n",
        "print(\"👶🧍 Average Malnutrition by Age Group:\")\n",
        "print(age_malnutrition)\n",
        "\n",
        "# Plot visualization\n",
        "plt.figure(figsize=(6,4))\n",
        "plt.bar(age_malnutrition['age_group'], age_malnutrition['Avg_Malnutrition'], color=['orange','skyblue'])\n",
        "plt.title('Average Malnutrition by Age Group', fontsize=14)\n",
        "plt.xlabel('Age Group')\n",
        "plt.ylabel('Average Malnutrition (%)')\n",
        "plt.grid(axis='y', linestyle='--', alpha=0.6)\n",
        "plt.show()\n",
        "\n",
        "conn.close()"
      ]
    },
    {
      "cell_type": "markdown",
      "metadata": {
        "id": "JkHvsCofPNrm"
      },
      "source": [
        "2. Top 5 countries with highest malnutrition(mean_estimate)"
      ]
    },
    {
      "cell_type": "code",
      "execution_count": null,
      "metadata": {
        "id": "khCAaV1yPe2t"
      },
      "outputs": [],
      "source": [
        "# Connect to database\n",
        "conn = sqlite3.connect('health_data.db')\n",
        "\n",
        "# Query top 5 countries with highest malnutrition\n",
        "query = \"\"\"\n",
        "SELECT\n",
        "    Country,\n",
        "    ROUND(AVG(Mean_Estimate), 2) AS Avg_Malnutrition\n",
        "FROM malnutrition\n",
        "GROUP BY Country\n",
        "ORDER BY Avg_Malnutrition DESC\n",
        "LIMIT 5;\n",
        "\"\"\"\n",
        "\n",
        "top5_malnutrition = pd.read_sql(query, conn)\n",
        "\n",
        "print(\"⚠️ Top 5 Countries with Highest Malnutrition Rates:\")\n",
        "print(top5_malnutrition)\n",
        "\n",
        "conn.close()"
      ]
    },
    {
      "cell_type": "markdown",
      "metadata": {
        "id": "Z-GSegG0PihD"
      },
      "source": [
        "3. Malnutrition trend in African region over the years"
      ]
    },
    {
      "cell_type": "code",
      "execution_count": null,
      "metadata": {
        "id": "1ihJop4EP6fK"
      },
      "outputs": [],
      "source": [
        "# Connect to database\n",
        "conn = sqlite3.connect('health_data.db')\n",
        "\n",
        "# Query African malnutrition trend\n",
        "query = \"\"\"\n",
        "SELECT\n",
        "    Year,\n",
        "    ROUND(AVG(Mean_Estimate), 2) AS Avg_Malnutrition\n",
        "FROM malnutrition\n",
        "WHERE Region LIKE '%Africa%'\n",
        "GROUP BY Year\n",
        "ORDER BY Year ASC;\n",
        "\"\"\"\n",
        "\n",
        "africa_trend = pd.read_sql(query, conn)\n",
        "\n",
        "# Display results\n",
        "print(\"📊 Malnutrition Trend in African Region Over the Years:\")\n",
        "print(africa_trend)\n",
        "\n",
        "# Plot trend\n",
        "plt.figure(figsize=(8,5))\n",
        "plt.plot(africa_trend['Year'], africa_trend['Avg_Malnutrition'], marker='o', color='orangered')\n",
        "plt.title('Malnutrition Trend in African Region Over the Years', fontsize=14)\n",
        "plt.xlabel('Year')\n",
        "plt.ylabel('Average Malnutrition (%)')\n",
        "plt.grid(True)\n",
        "plt.show()\n",
        "\n",
        "conn.close()"
      ]
    },
    {
      "cell_type": "markdown",
      "metadata": {
        "id": "wqzFDUmAQDNU"
      },
      "source": [
        "4. Gender-based average malnutrition"
      ]
    },
    {
      "cell_type": "code",
      "execution_count": null,
      "metadata": {
        "id": "UK4Ghs8pQRmW"
      },
      "outputs": [],
      "source": [
        "conn = sqlite3.connect('health_data.db')\n",
        "\n",
        "# Query average malnutrition by gender\n",
        "query = \"\"\"\n",
        "SELECT\n",
        "    Indicator AS Gender,\n",
        "    ROUND(AVG(Mean_Estimate), 2) AS Avg_Malnutrition\n",
        "FROM malnutrition\n",
        "GROUP BY Indicator\n",
        "ORDER BY Avg_Malnutrition DESC;\n",
        "\"\"\"\n",
        "\n",
        "gender_malnutrition = pd.read_sql(query, conn)\n",
        "\n",
        "# Display results\n",
        "print(\"⚖️ Average Malnutrition by Gender:\")\n",
        "print(gender_malnutrition)\n",
        "\n",
        "# Plot bar chart\n",
        "plt.figure(figsize=(6,4))\n",
        "plt.bar(gender_malnutrition['Gender'], gender_malnutrition['Avg_Malnutrition'], color=['orange','skyblue'])\n",
        "plt.title('Average Malnutrition by Gender', fontsize=14)\n",
        "plt.xlabel('Gender')\n",
        "plt.ylabel('Average Malnutrition (%)')\n",
        "plt.grid(axis='y', linestyle='--', alpha=0.6)\n",
        "plt.show()\n",
        "\n",
        "conn.close()"
      ]
    },
    {
      "cell_type": "markdown",
      "metadata": {
        "id": "YMplLrEQQZOT"
      },
      "source": [
        "5. Malnutrition level-wise (average CI_Width by age group)"
      ]
    },
    {
      "cell_type": "code",
      "execution_count": null,
      "metadata": {
        "id": "rjhUhR0YQnJL"
      },
      "outputs": [],
      "source": [
        "conn = sqlite3.connect('health_data.db')\n",
        "\n",
        "# Query average CI_Width by age group\n",
        "query = \"\"\"\n",
        "SELECT\n",
        "    age_group,\n",
        "    ROUND(AVG(CI_Width), 3) AS Avg_CI_Width\n",
        "FROM malnutrition\n",
        "GROUP BY age_group\n",
        "ORDER BY Avg_CI_Width ASC;\n",
        "\"\"\"\n",
        "\n",
        "ci_by_age = pd.read_sql(query, conn)\n",
        "\n",
        "print(\"📏 Average CI_Width by Age Group (Malnutrition):\")\n",
        "print(ci_by_age)\n",
        "\n",
        "# Plot\n",
        "plt.figure(figsize=(6,4))\n",
        "plt.bar(ci_by_age['age_group'], ci_by_age['Avg_CI_Width'], color=['lightgreen','salmon'])\n",
        "plt.title('Average CI_Width by Age Group (Malnutrition)', fontsize=14)\n",
        "plt.xlabel('Age Group')\n",
        "plt.ylabel('Average CI Width')\n",
        "plt.grid(axis='y', linestyle='--', alpha=0.6)\n",
        "plt.show()\n",
        "\n",
        "conn.close()"
      ]
    },
    {
      "cell_type": "markdown",
      "metadata": {
        "id": "X7CkJipxQzx_"
      },
      "source": [
        "6. Yearly malnutrition change in specific countries(India, Nigeria, Brazil"
      ]
    },
    {
      "cell_type": "code",
      "execution_count": null,
      "metadata": {
        "id": "twdKknaKQ9d-"
      },
      "outputs": [],
      "source": [
        "conn = sqlite3.connect('health_data.db')\n",
        "\n",
        "# Query yearly malnutrition for selected countries\n",
        "query = \"\"\"\n",
        "SELECT\n",
        "    Country,\n",
        "    Year,\n",
        "    ROUND(AVG(Mean_Estimate), 2) AS Avg_Malnutrition\n",
        "FROM malnutrition\n",
        "WHERE Country IN ('India', 'Nigeria', 'Brazil')\n",
        "GROUP BY Country, Year\n",
        "ORDER BY Country, Year ASC;\n",
        "\"\"\"\n",
        "\n",
        "country_trends = pd.read_sql(query, conn)\n",
        "\n",
        "print(\"📊 Yearly Malnutrition Trend in India, Nigeria, and Brazil:\")\n",
        "print(country_trends)\n",
        "\n",
        "# Plot trend\n",
        "plt.figure(figsize=(8,5))\n",
        "for country in country_trends['Country'].unique():\n",
        "    subset = country_trends[country_trends['Country'] == country]\n",
        "    plt.plot(subset['Year'], subset['Avg_Malnutrition'], marker='o', label=country)\n",
        "\n",
        "plt.title('Yearly Malnutrition Trend in Selected Countries', fontsize=14)\n",
        "plt.xlabel('Year')\n",
        "plt.ylabel('Average Malnutrition (%)')\n",
        "plt.legend()\n",
        "plt.grid(True, linestyle='--', alpha=0.6)\n",
        "plt.show()\n",
        "\n",
        "conn.close()"
      ]
    },
    {
      "cell_type": "markdown",
      "metadata": {
        "id": "56Gc-gonRiOu"
      },
      "source": [
        "7. Regions with lowest malnutrition averages"
      ]
    },
    {
      "cell_type": "code",
      "execution_count": null,
      "metadata": {
        "id": "iWrco98kRxfV"
      },
      "outputs": [],
      "source": [
        "conn = sqlite3.connect('health_data.db')\n",
        "\n",
        "# Query regions with lowest malnutrition averages\n",
        "query = \"\"\"\n",
        "SELECT\n",
        "    Region,\n",
        "    ROUND(AVG(Mean_Estimate), 2) AS Avg_Malnutrition\n",
        "FROM malnutrition\n",
        "GROUP BY Region\n",
        "ORDER BY Avg_Malnutrition ASC\n",
        "LIMIT 5;\n",
        "\"\"\"\n",
        "\n",
        "lowest_regions = pd.read_sql(query, conn)\n",
        "\n",
        "print(\"🌿 Regions with Lowest Average Malnutrition:\")\n",
        "print(lowest_regions)\n",
        "\n",
        "# Plot bar chart\n",
        "plt.figure(figsize=(8,4))\n",
        "plt.bar(lowest_regions['Region'], lowest_regions['Avg_Malnutrition'], color='lightgreen')\n",
        "plt.title('Regions with Lowest Average Malnutrition', fontsize=14)\n",
        "plt.xlabel('Region')\n",
        "plt.ylabel('Average Malnutrition (%)')\n",
        "plt.grid(axis='y', linestyle='--', alpha=0.6)\n",
        "plt.show()\n",
        "\n",
        "conn.close()"
      ]
    },
    {
      "cell_type": "markdown",
      "metadata": {
        "id": "M4aSBcDPR2Bb"
      },
      "source": [
        "8. Countries with increasing malnutrition (💡 Hint: Use MIN() and MAX()   on Mean_Estimate per country to compare early vs. recent malnutrition levels, and filter where the difference is positive using HAVING.)"
      ]
    },
    {
      "cell_type": "code",
      "execution_count": null,
      "metadata": {
        "id": "G2yNh2BSSNi6"
      },
      "outputs": [],
      "source": [
        "conn = sqlite3.connect('health_data.db')\n",
        "\n",
        "# Query countries with increasing malnutrition\n",
        "query = \"\"\"\n",
        "SELECT\n",
        "    Country,\n",
        "    ROUND(MIN(Mean_Estimate), 2) AS Min_Malnutrition,\n",
        "    ROUND(MAX(Mean_Estimate), 2) AS Max_Malnutrition,\n",
        "    ROUND(MAX(Mean_Estimate) - MIN(Mean_Estimate), 2) AS Increase\n",
        "FROM malnutrition\n",
        "GROUP BY Country\n",
        "HAVING (MAX(Mean_Estimate) - MIN(Mean_Estimate)) > 0\n",
        "ORDER BY Increase DESC\n",
        "LIMIT 10;\n",
        "\"\"\"\n",
        "\n",
        "increasing_malnutrition = pd.read_sql(query, conn)\n",
        "\n",
        "print(\"📈 Countries with Increasing Malnutrition Over the Years:\")\n",
        "print(increasing_malnutrition)\n",
        "\n",
        "conn.close()"
      ]
    },
    {
      "cell_type": "markdown",
      "metadata": {
        "id": "MGgtLvsRSTjh"
      },
      "source": [
        "9.  Min/Max malnutrition levels year-wise comparison"
      ]
    },
    {
      "cell_type": "code",
      "execution_count": null,
      "metadata": {
        "id": "9j8dyh4NSckn"
      },
      "outputs": [],
      "source": [
        "conn = sqlite3.connect('health_data.db')\n",
        "\n",
        "# Query year-wise min/max malnutrition\n",
        "query = \"\"\"\n",
        "SELECT\n",
        "    Year,\n",
        "    ROUND(MIN(Mean_Estimate), 2) AS Min_Malnutrition,\n",
        "    ROUND(MAX(Mean_Estimate), 2) AS Max_Malnutrition\n",
        "FROM malnutrition\n",
        "GROUP BY Year\n",
        "ORDER BY Year ASC;\n",
        "\"\"\"\n",
        "\n",
        "yearly_range = pd.read_sql(query, conn)\n",
        "\n",
        "print(\"📊 Year-wise Min/Max Malnutrition Levels:\")\n",
        "print(yearly_range)\n",
        "\n",
        "# Plot min/max trend\n",
        "plt.figure(figsize=(8,5))\n",
        "plt.plot(yearly_range['Year'], yearly_range['Min_Malnutrition'], marker='o', label='Min Malnutrition', color='green')\n",
        "plt.plot(yearly_range['Year'], yearly_range['Max_Malnutrition'], marker='o', label='Max Malnutrition', color='red')\n",
        "plt.fill_between(yearly_range['Year'], yearly_range['Min_Malnutrition'], yearly_range['Max_Malnutrition'], color='orange', alpha=0.2)\n",
        "plt.title('Year-wise Min/Max Malnutrition Levels', fontsize=14)\n",
        "plt.xlabel('Year')\n",
        "plt.ylabel('Malnutrition (%)')\n",
        "plt.legend()\n",
        "plt.grid(True, linestyle='--', alpha=0.6)\n",
        "plt.show()\n",
        "\n",
        "conn.close()"
      ]
    },
    {
      "cell_type": "markdown",
      "metadata": {
        "id": "d7k7Lhk5Shnr"
      },
      "source": [
        "10.  High CI_Width flags for monitoring(CI_width > 5)"
      ]
    },
    {
      "cell_type": "code",
      "execution_count": null,
      "metadata": {
        "id": "NZiuQykrSvoD"
      },
      "outputs": [],
      "source": [
        "conn = sqlite3.connect('health_data.db')\n",
        "\n",
        "# Query high CI_Width records\n",
        "query = \"\"\"\n",
        "SELECT\n",
        "    Country,\n",
        "    Year,\n",
        "    age_group,\n",
        "    Indicator,\n",
        "    Mean_Estimate,\n",
        "    CI_Width\n",
        "FROM malnutrition\n",
        "WHERE CI_Width > 5\n",
        "ORDER BY CI_Width DESC;\n",
        "\"\"\"\n",
        "\n",
        "high_ci_flags = pd.read_sql(query, conn)\n",
        "\n",
        "print(\"⚠️ Malnutrition Records with High CI_Width (>5):\")\n",
        "print(high_ci_flags.head(20))  # show top 20 records for monitoring\n",
        "\n",
        "conn.close()"
      ]
    },
    {
      "cell_type": "markdown",
      "metadata": {
        "id": "fD2jiN6eS2jy"
      },
      "source": [
        "🔗 Combined (5 Queries)"
      ]
    },
    {
      "cell_type": "markdown",
      "metadata": {
        "id": "Bgfp2A9-S9ci"
      },
      "source": [
        "1. Obesity vs malnutrition comparison by country(any 5 countries)"
      ]
    },
    {
      "cell_type": "code",
      "execution_count": null,
      "metadata": {
        "id": "JZMNnyv6TaDr"
      },
      "outputs": [],
      "source": [
        "conn = sqlite3.connect('health_data.db')\n",
        "\n",
        "# Query average obesity vs malnutrition for selected countries\n",
        "query = \"\"\"\n",
        "SELECT\n",
        "    o.Country,\n",
        "    ROUND(AVG(o.Mean_Estimate), 2) AS Avg_Obesity,\n",
        "    ROUND(AVG(m.Mean_Estimate), 2) AS Avg_Malnutrition\n",
        "FROM obesity o\n",
        "JOIN malnutrition m\n",
        "    ON o.Country = m.Country\n",
        "WHERE o.Country IN ('India','Nigeria','Brazil','USA','China')\n",
        "GROUP BY o.Country\n",
        "ORDER BY o.Country;\n",
        "\"\"\"\n",
        "\n",
        "comparison = pd.read_sql(query, conn)\n",
        "\n",
        "print(\"🔗 Obesity vs Malnutrition Comparison (Selected Countries):\")\n",
        "print(comparison)\n",
        "\n",
        "# Plot comparison\n",
        "plt.figure(figsize=(8,5))\n",
        "bar_width = 0.35\n",
        "countries = comparison['Country']\n",
        "index = range(len(countries))\n",
        "\n",
        "plt.bar(index, comparison['Avg_Obesity'], bar_width, label='Obesity', color='salmon')\n",
        "plt.bar([i + bar_width for i in index], comparison['Avg_Malnutrition'], bar_width, label='Malnutrition', color='skyblue')\n",
        "\n",
        "plt.xlabel('Country')\n",
        "plt.ylabel('Average Percentage (%)')\n",
        "plt.title('Obesity vs Malnutrition Comparison')\n",
        "plt.xticks([i + bar_width/2 for i in index], countries)\n",
        "plt.legend()\n",
        "plt.grid(axis='y', linestyle='--', alpha=0.6)\n",
        "plt.show()\n",
        "\n",
        "conn.close()"
      ]
    },
    {
      "cell_type": "markdown",
      "metadata": {
        "id": "RqWl-DARTtxv"
      },
      "source": [
        "2. Gender-based disparity in both obesity and malnutrition"
      ]
    },
    {
      "cell_type": "code",
      "execution_count": null,
      "metadata": {
        "id": "Pjqc5X-xUA43"
      },
      "outputs": [],
      "source": [
        "conn = sqlite3.connect('health_data.db')\n",
        "\n",
        "# Obesity by gender\n",
        "query_obesity = \"\"\"\n",
        "SELECT\n",
        "    Gender AS Gender,\n",
        "    ROUND(AVG(Mean_Estimate), 2) AS Avg_Obesity\n",
        "FROM obesity\n",
        "GROUP BY Gender;\n",
        "\"\"\"\n",
        "obesity_gender = pd.read_sql(query_obesity, conn)\n",
        "\n",
        "# Malnutrition by gender\n",
        "query_malnutrition = \"\"\"\n",
        "SELECT\n",
        "    Indicator AS Gender,\n",
        "    ROUND(AVG(Mean_Estimate), 2) AS Avg_Malnutrition\n",
        "FROM malnutrition\n",
        "GROUP BY Indicator;\n",
        "\"\"\"\n",
        "malnutrition_gender = pd.read_sql(query_malnutrition, conn)\n",
        "\n",
        "# Merge for comparison\n",
        "gender_comparison = pd.merge(obesity_gender, malnutrition_gender, on='Gender', how='outer')\n",
        "print(\"⚖️ Gender-Based Disparity in Obesity and Malnutrition:\")\n",
        "print(gender_comparison)\n",
        "\n",
        "# Plot comparison\n",
        "plt.figure(figsize=(8,5))\n",
        "bar_width = 0.35\n",
        "genders = gender_comparison['Gender']\n",
        "index = range(len(genders))\n",
        "\n",
        "plt.bar(index, gender_comparison['Avg_Obesity'], bar_width, label='Obesity', color='salmon')\n",
        "plt.bar([i + bar_width for i in index], gender_comparison['Avg_Malnutrition'], bar_width, label='Malnutrition', color='skyblue')\n",
        "\n",
        "plt.xlabel('Gender')\n",
        "plt.ylabel('Average Percentage (%)')\n",
        "plt.title('Gender-Based Disparity: Obesity vs Malnutrition')\n",
        "plt.xticks([i + bar_width/2 for i in index], genders)\n",
        "plt.legend()\n",
        "plt.grid(axis='y', linestyle='--', alpha=0.6)\n",
        "plt.show()\n",
        "\n",
        "conn.close()"
      ]
    },
    {
      "cell_type": "markdown",
      "metadata": {
        "id": "F_v7HH0PUQGK"
      },
      "source": [
        "3. Region-wise avg estimates side-by-side(Africa and America)"
      ]
    },
    {
      "cell_type": "code",
      "execution_count": null,
      "metadata": {
        "id": "iCHpyMPcUdrH"
      },
      "outputs": [],
      "source": [
        "conn = sqlite3.connect('health_data.db')\n",
        "\n",
        "# Obesity averages for Africa and Americas\n",
        "query_obesity = \"\"\"\n",
        "SELECT\n",
        "    Region,\n",
        "    ROUND(AVG(Mean_Estimate), 2) AS Avg_Obesity\n",
        "FROM obesity\n",
        "WHERE Region IN ('Africa', 'Americas')\n",
        "GROUP BY Region;\n",
        "\"\"\"\n",
        "obesity_region = pd.read_sql(query_obesity, conn)\n",
        "\n",
        "# Malnutrition averages for Africa and Americas\n",
        "query_malnutrition = \"\"\"\n",
        "SELECT\n",
        "    Region,\n",
        "    ROUND(AVG(Mean_Estimate), 2) AS Avg_Malnutrition\n",
        "FROM malnutrition\n",
        "WHERE Region IN ('Africa', 'Americas')\n",
        "GROUP BY Region;\n",
        "\"\"\"\n",
        "malnutrition_region = pd.read_sql(query_malnutrition, conn)\n",
        "\n",
        "# Merge for side-by-side comparison\n",
        "region_comparison = pd.merge(obesity_region, malnutrition_region, on='Region')\n",
        "print(\"🌍 Region-Wise Average Estimates: Obesity vs Malnutrition\")\n",
        "print(region_comparison)\n",
        "\n",
        "# Plot comparison\n",
        "plt.figure(figsize=(6,5))\n",
        "bar_width = 0.35\n",
        "regions = region_comparison['Region']\n",
        "index = range(len(regions))\n",
        "\n",
        "plt.bar(index, region_comparison['Avg_Obesity'], bar_width, label='Obesity', color='salmon')\n",
        "plt.bar([i + bar_width for i in index], region_comparison['Avg_Malnutrition'], bar_width, label='Malnutrition', color='skyblue')\n",
        "\n",
        "plt.xlabel('Region')\n",
        "plt.ylabel('Average Percentage (%)')\n",
        "plt.title('Region-Wise Average Estimates: Obesity vs Malnutrition')\n",
        "plt.xticks([i + bar_width/2 for i in index], regions)\n",
        "plt.legend()\n",
        "plt.grid(axis='y', linestyle='--', alpha=0.6)\n",
        "plt.show()\n",
        "\n",
        "conn.close()"
      ]
    },
    {
      "cell_type": "markdown",
      "metadata": {
        "id": "c4OK4bnGUlHf"
      },
      "source": [
        "4. Countries with obesity up & malnutrition down"
      ]
    },
    {
      "cell_type": "code",
      "execution_count": null,
      "metadata": {
        "id": "YOvED7vjU1uj"
      },
      "outputs": [],
      "source": [
        "conn = sqlite3.connect('health_data.db')\n",
        "\n",
        "query = \"\"\"\n",
        "WITH ObesityTrend AS (\n",
        "    SELECT\n",
        "        Country,\n",
        "        MAX(Mean_Estimate) - MIN(Mean_Estimate) AS Obesity_Change\n",
        "    FROM obesity\n",
        "    GROUP BY Country\n",
        "),\n",
        "MalnutritionTrend AS (\n",
        "    SELECT\n",
        "        Country,\n",
        "        MAX(Mean_Estimate) - MIN(Mean_Estimate) AS Malnutrition_Change\n",
        "    FROM malnutrition\n",
        "    GROUP BY Country\n",
        ")\n",
        "SELECT\n",
        "    o.Country,\n",
        "    ROUND(o.Obesity_Change, 2) AS Obesity_Change,\n",
        "    ROUND(m.Malnutrition_Change, 2) AS Malnutrition_Change\n",
        "FROM ObesityTrend o\n",
        "JOIN MalnutritionTrend m\n",
        "    ON o.Country = m.Country\n",
        "WHERE o.Obesity_Change > 0 AND m.Malnutrition_Change < 0\n",
        "ORDER BY o.Obesity_Change DESC\n",
        "LIMIT 10;\n",
        "\"\"\"\n",
        "\n",
        "trend_comparison = pd.read_sql(query, conn)\n",
        "print(\"📈 Countries with Increasing Obesity & Decreasing Malnutrition:\")\n",
        "print(trend_comparison)\n",
        "\n",
        "conn.close()"
      ]
    },
    {
      "cell_type": "markdown",
      "metadata": {
        "id": "DH2HrnjoU6RW"
      },
      "source": [
        "5. Age-wise trend analysis"
      ]
    },
    {
      "cell_type": "code",
      "execution_count": null,
      "metadata": {
        "id": "he9ba7rqVJxh"
      },
      "outputs": [],
      "source": [
        "conn = sqlite3.connect('health_data.db')\n",
        "\n",
        "# Obesity age-wise trend\n",
        "query_obesity = \"\"\"\n",
        "SELECT\n",
        "    age_group,\n",
        "    Year,\n",
        "    ROUND(AVG(Mean_Estimate), 2) AS Avg_Obesity\n",
        "FROM obesity\n",
        "GROUP BY age_group, Year\n",
        "ORDER BY age_group, Year;\n",
        "\"\"\"\n",
        "obesity_age_trend = pd.read_sql(query_obesity, conn)\n",
        "\n",
        "# Malnutrition age-wise trend\n",
        "query_malnutrition = \"\"\"\n",
        "SELECT\n",
        "    age_group,\n",
        "    Year,\n",
        "    ROUND(AVG(Mean_Estimate), 2) AS Avg_Malnutrition\n",
        "FROM malnutrition\n",
        "GROUP BY age_group, Year\n",
        "ORDER BY age_group, Year;\n",
        "\"\"\"\n",
        "malnutrition_age_trend = pd.read_sql(query_malnutrition, conn)\n",
        "\n",
        "# Plot Obesity Trend\n",
        "plt.figure(figsize=(8,5))\n",
        "for age_group in obesity_age_trend['age_group'].unique():\n",
        "    subset = obesity_age_trend[obesity_age_trend['age_group'] == age_group]\n",
        "    plt.plot(subset['Year'], subset['Avg_Obesity'], marker='o', label=f'Obesity - {age_group}')\n",
        "\n",
        "# Plot Malnutrition Trend\n",
        "for age_group in malnutrition_age_trend['age_group'].unique():\n",
        "    subset = malnutrition_age_trend[malnutrition_age_trend['age_group'] == age_group]\n",
        "    plt.plot(subset['Year'], subset['Avg_Malnutrition'], marker='x', linestyle='--', label=f'Malnutrition - {age_group}')\n",
        "\n",
        "plt.title('Age-Wise Trend Analysis: Obesity vs Malnutrition', fontsize=14)\n",
        "plt.xlabel('Year')\n",
        "plt.ylabel('Average Percentage (%)')\n",
        "plt.legend()\n",
        "plt.grid(True, linestyle='--', alpha=0.6)\n",
        "plt.show()\n",
        "\n",
        "conn.close()"
      ]
    },
    {
      "cell_type": "markdown",
      "source": [
        "### Streamlit"
      ],
      "metadata": {
        "id": "DMy57T4qOvpm"
      }
    },
    {
      "cell_type": "code",
      "execution_count": null,
      "metadata": {
        "id": "Q20nX03Ks7SL"
      },
      "outputs": [],
      "source": [
        "%%writefile app.py\n",
        "import streamlit as st\n",
        "import pandas as pd\n",
        "import sqlite3\n",
        "import matplotlib.pyplot as plt\n",
        "import subprocess\n",
        "import sys\n",
        "import seaborn as sns\n",
        "\n",
        "# --- Connect to SQLite database ---\n",
        "conn = sqlite3.connect('health_data.db')\n",
        "\n",
        "# --- Sidebar options ---\n",
        "st.sidebar.title(\"Health Data Explorer\")\n",
        "dataset_choice = st.sidebar.selectbox(\"Select Dataset\", [\"Obesity\", \"Malnutrition\"])\n",
        "eda_choice = st.sidebar.selectbox(\"Select Analysis\", [\n",
        "    \"Top Countries\",\n",
        "    \"Trend Over Years\",\n",
        "    \"Gender Comparison\",\n",
        "    \"Age-wise Trend\",\n",
        "    \"Region-wise Comparison\",\n",
        "    \"Distribution Comparison\", # Added distribution comparison\n",
        "    \"Queries\"\n",
        "])\n",
        "\n",
        "# --- Function to load data ---\n",
        "def load_data(table):\n",
        "    return pd.read_sql(f\"SELECT * FROM {table};\", conn)\n",
        "\n",
        "# --- Display dataset ---\n",
        "if eda_choice != \"Queries\":\n",
        "    st.title(f\"{dataset_choice} Dataset\")\n",
        "    df = load_data(dataset_choice.lower())\n",
        "    st.dataframe(df.head(10))\n",
        "\n",
        "\n",
        "# --- Analysis: Top Countries ---\n",
        "if eda_choice == \"Top Countries\":\n",
        "    query = f\"\"\"\n",
        "    SELECT Country, ROUND(AVG(Mean_Estimate), 2) AS Avg_Value\n",
        "    FROM {dataset_choice.lower()}\n",
        "    GROUP BY Country\n",
        "    ORDER BY Avg_Value DESC\n",
        "    LIMIT 10;\n",
        "    \"\"\"\n",
        "    result = pd.read_sql(query, conn)\n",
        "    st.subheader(\"Top 10 Countries by Average Value\")\n",
        "    st.dataframe(result)\n",
        "\n",
        "# --- Analysis: Trend Over Years ---\n",
        "elif eda_choice == \"Trend Over Years\":\n",
        "    query = f\"\"\"\n",
        "    SELECT Year, ROUND(AVG(Mean_Estimate), 2) AS Avg_Value\n",
        "    FROM {dataset_choice.lower()}\n",
        "    GROUP BY Year\n",
        "    ORDER BY Year ASC;\n",
        "    \"\"\"\n",
        "    trend = pd.read_sql(query, conn)\n",
        "    st.subheader(\"Trend Over Years\")\n",
        "    st.line_chart(trend.rename(columns={\"Year\": \"index\"}).set_index(\"index\"))\n",
        "\n",
        "# --- Analysis: Gender Comparison ---\n",
        "elif eda_choice == \"Gender Comparison\":\n",
        "    query = f\"\"\"\n",
        "    SELECT Indicator AS Gender, ROUND(AVG(Mean_Estimate), 2) AS Avg_Value\n",
        "    FROM {dataset_choice.lower()}\n",
        "    GROUP BY Indicator;\n",
        "    \"\"\"\n",
        "    gender_df = pd.read_sql(query, conn)\n",
        "    st.subheader(\"Gender-Based Comparison\")\n",
        "    st.bar_chart(gender_df.set_index(\"Gender\"))\n",
        "\n",
        "# --- Analysis: Age-wise Trend ---\n",
        "elif eda_choice == \"Age-wise Trend\":\n",
        "    query = f\"\"\"\n",
        "    SELECT age_group, Year, ROUND(AVG(Mean_Estimate), 2) AS Avg_Value\n",
        "    FROM {dataset_choice.lower()}\n",
        "    GROUP BY age_group, Year\n",
        "    ORDER BY age_group, Year;\n",
        "    \"\"\"\n",
        "    age_trend = pd.read_sql(query, conn)\n",
        "    st.subheader(\"Age-wise Trend Over Years\")\n",
        "    plt.figure(figsize=(8,5))\n",
        "    for age_group in age_trend['age_group'].unique():\n",
        "        subset = age_trend[age_trend['age_group'] == age_group]\n",
        "        plt.plot(subset['Year'], subset['Avg_Value'], marker='o', label=age_group)\n",
        "    plt.title(f\"{dataset_choice} Trend by Age Group\")\n",
        "    plt.xlabel(\"Year\")\n",
        "    plt.ylabel(\"Average Percentage (%)\")\n",
        "    plt.legend()\n",
        "    plt.grid(True, linestyle='--', alpha=0.5)\n",
        "    st.pyplot(plt)\n",
        "\n",
        "# --- Analysis: Region-wise Comparison ---\n",
        "elif eda_choice == \"Region-wise Comparison\":\n",
        "    query = f\"\"\"\n",
        "    SELECT Region, ROUND(AVG(Mean_Estimate), 2) AS Avg_Value\n",
        "    FROM {dataset_choice.lower()}\n",
        "    GROUP BY Region\n",
        "    ORDER BY Avg_Value DESC;\n",
        "    \"\"\"\n",
        "    region_df = pd.read_sql(query, conn)\n",
        "    st.subheader(\"Region-wise Average\")\n",
        "    st.bar_chart(region_df.set_index(\"Region\"))\n",
        "\n",
        "# --- Analysis: Distribution Comparison (Obesity vs Malnutrition) ---\n",
        "elif eda_choice == \"Distribution Comparison\":\n",
        "    st.subheader(\"Distribution Comparison: Obesity vs Malnutrition\")\n",
        "    obesity_df = load_data(\"obesity\")\n",
        "    malnutrition_df = load_data(\"malnutrition\")\n",
        "\n",
        "    # Add a 'Type' column to each dataframe\n",
        "    obesity_df['Type'] = 'Obesity'\n",
        "    malnutrition_df['Type'] = 'Malnutrition'\n",
        "\n",
        "    # Combine the dataframes\n",
        "    df_combined = pd.concat([obesity_df, malnutrition_df], ignore_index=True)\n",
        "\n",
        "    # Histogram/KDE plot\n",
        "    plt.figure(figsize=(10,6))\n",
        "    sns.histplot(\n",
        "        data=df_combined,\n",
        "        x='Mean_Estimate',\n",
        "        hue='Type',\n",
        "        kde=True,\n",
        "        stat='density',\n",
        "        common_norm=False,\n",
        "        element='step',\n",
        "        alpha=0.5\n",
        "    )\n",
        "    plt.title('Distribution Comparison: Obesity vs Malnutrition')\n",
        "    plt.xlabel('Mean Estimate (%)')\n",
        "    plt.ylabel('Density')\n",
        "    plt.legend(title='Type') # Added legend title\n",
        "    st.pyplot(plt)\n",
        "\n",
        "    # Boxplot\n",
        "    plt.figure(figsize=(8,5))\n",
        "    sns.boxplot(x='Type', y='Mean_Estimate', data=df_combined, palette=['#FF6347','#4682B4'])\n",
        "    plt.title('Boxplot of Mean_Estimate by Type')\n",
        "    plt.ylabel('Mean_Estimate (%)')\n",
        "    st.pyplot(plt)\n",
        "\n",
        "    # Regional Comparison\n",
        "    plt.figure(figsize=(12,6))\n",
        "    sns.barplot(x='Region', y='Mean_Estimate', hue='Type', data=df_combined, errorbar=None)\n",
        "    plt.xticks(rotation=45)\n",
        "    plt.title('Average Mean_Estimate by Region: Obesity vs Malnutrition')\n",
        "    plt.ylabel('Mean_Estimate (%)')\n",
        "    st.pyplot(plt)\n",
        "\n",
        "\n",
        "# --- Analysis: Run Queries ---\n",
        "elif eda_choice == \"Queries\":\n",
        "    st.subheader(\"Run Predefined Queries\")\n",
        "    option = st.selectbox(\n",
        "       \"Select your query\",[\n",
        "           '1.Top 5 regions with the highest average obesity levels in the most recent year(2022)',\n",
        "           '2.Top 5 countries with highest obesity estimates',\n",
        "           '3.Obesity trend in India over the years(Mean_estimate)',\n",
        "           '4.Average obesity by gender',\n",
        "           '5.Country count by obesity level category and age group',\n",
        "           '6.Top 5 countries least reliable countries(with highest CI_Width) and Top 5 most consistent countries (smallest average CI_Width)',\n",
        "           '7.Average obesity by age group',\n",
        "           '8.Top 10 Countries with consistent low obesity (low average + low CI)over the years',\n",
        "           '9.Countries where female obesity exceeds male by large margin (same       year)',\n",
        "           '10.Global average obesity percentage per year',\n",
        "           '11.Avg. malnutrition by age group',\n",
        "           '12.Top 5 countries with highest malnutrition(mean_estimate)',\n",
        "           '13.Malnutrition trend in African region over the years',\n",
        "           '14.Gender-based average malnutrition',\n",
        "           '15.Malnutrition level-wise (average CI_Width by age group)',\n",
        "           '16.Yearly malnutrition change in specific countries(India, Nigeria, Brazil)',\n",
        "           '17.Regions with lowest malnutrition averages',\n",
        "           '18.Countries with increasing malnutrition (💡 Hint: Use MIN() and MAX()   on Mean_Estimate per country to compare early vs. recent malnutrition levels, and filter where the difference is positive using HAVING.)',\n",
        "           '19.Min/Max malnutrition levels year-wise comparison',\n",
        "           '20. High CI_Width flags for monitoring(CI_width > 5)',\n",
        "           '21.Obesity vs malnutrition comparison by country(any 5 countries)',\n",
        "           '22.Gender-based disparity in both obesity and malnutrition',\n",
        "           '23.Region-wise avg estimates side-by-side(Africa and America)',\n",
        "           '24.Countries with obesity up & malnutrition down',\n",
        "           '25.Age-wise trend analysis',\n",
        "                ],\n",
        "    index=None)\n",
        "    if option == '1.Top 5 regions with the highest average obesity levels in the most recent year(2022)':\n",
        "        conn = sqlite3.connect('health_data.db')\n",
        "        query = \"\"\"\n",
        "        SELECT Region, AVG(Mean_Estimate) AS Avg_Obesity\n",
        "        FROM obesity\n",
        "        WHERE Year = 2022\n",
        "        GROUP BY Region\n",
        "        ORDER BY Avg_Obesity DESC\n",
        "        LIMIT 5;\n",
        "        \"\"\"\n",
        "        top5_regions = pd.read_sql(query, conn)\n",
        "        st.write(\"🌍 **Top 5 Regions with Highest Average Obesity Levels in 2022**\")\n",
        "        st.dataframe(top5_regions)\n",
        "        st.bar_chart(top5_regions.set_index(\"Region\"))\n",
        "        conn.close()\n",
        "\n",
        "\n",
        "    if option == '2.Top 5 countries with highest obesity estimates':\n",
        "        conn = sqlite3.connect('health_data.db')\n",
        "        query = \"\"\"\n",
        "        SELECT\n",
        "            Country,\n",
        "            ROUND(AVG(Mean_Estimate), 2) AS Avg_Obesity_Level\n",
        "        FROM obesity\n",
        "        GROUP BY Country\n",
        "        ORDER BY Avg_Obesity_Level DESC\n",
        "        LIMIT 5;\n",
        "        \"\"\"\n",
        "        top5_countries = pd.read_sql(query, conn)\n",
        "        st.write(\"🌍 Top 5 Countries with Highest Average Obesity Estimates:\")\n",
        "        st.dataframe(top5_countries)\n",
        "        conn.close()\n",
        "\n",
        "    if option == '3.Obesity trend in India over the years(Mean_estimate)':\n",
        "        conn = sqlite3.connect('health_data.db')\n",
        "        query = \"\"\"\n",
        "        SELECT\n",
        "            Year,\n",
        "            ROUND(AVG(Mean_Estimate), 2) AS Avg_Obesity_Level\n",
        "        FROM obesity\n",
        "        WHERE Country = 'India'\n",
        "        GROUP BY Year\n",
        "        ORDER BY Year ASC;\n",
        "        \"\"\"\n",
        "        india_trend = pd.read_sql(query, conn)\n",
        "        st.write(\"📊 Obesity Trend in India Over the Years:\")\n",
        "        st.dataframe(india_trend)\n",
        "        conn.close()\n",
        "\n",
        "\n",
        "    if option == '4.Average obesity by gender':\n",
        "        conn = sqlite3.connect('health_data.db')\n",
        "        query = \"\"\"\n",
        "        SELECT\n",
        "            Gender,\n",
        "            ROUND(AVG(Mean_Estimate), 2) AS Avg_Obesity_Level\n",
        "        FROM obesity\n",
        "        GROUP BY Gender\n",
        "        ORDER BY Avg_Obesity_Level DESC;\n",
        "        \"\"\"\n",
        "        gender_obesity = pd.read_sql(query, conn)\n",
        "        st.write(\"⚖️ Average Obesity by Gender:\")\n",
        "        st.dataframe(gender_obesity)\n",
        "        plt.figure(figsize=(6,4))\n",
        "        plt.bar(gender_obesity['Gender'], gender_obesity['Avg_Obesity_Level'], color='skyblue')\n",
        "        plt.title('Average Obesity by Gender', fontsize=14)\n",
        "        plt.xlabel('Gender')\n",
        "        plt.ylabel('Average Obesity Level (%)')\n",
        "        plt.grid(axis='y', linestyle='--', alpha=0.6)\n",
        "        st.pyplot(plt)\n",
        "        conn.close()\n",
        "\n",
        "\n",
        "    if option == '5.Country count by obesity level category and age group':\n",
        "        conn = sqlite3.connect('health_data.db')\n",
        "\n",
        "        query = \"\"\"\n",
        "        WITH categorized AS (\n",
        "            SELECT\n",
        "                Country,\n",
        "                age_group,\n",
        "                CASE\n",
        "                    WHEN Mean_Estimate < 10 THEN 'Low'\n",
        "                    WHEN Mean_Estimate BETWEEN 10 AND 20 THEN 'Moderate'\n",
        "                    WHEN Mean_Estimate BETWEEN 20 AND 30 THEN 'High'\n",
        "                    ELSE 'Very High'\n",
        "                END AS Obesity_Level_Category\n",
        "            FROM obesity\n",
        "            WHERE Year = 2022\n",
        "        )\n",
        "        SELECT\n",
        "            Obesity_Level_Category,\n",
        "            age_group,\n",
        "            COUNT(DISTINCT Country) AS Country_Count\n",
        "        FROM categorized\n",
        "        GROUP BY Obesity_Level_Category, age_group\n",
        "        ORDER BY\n",
        "            CASE\n",
        "                WHEN Obesity_Level_Category = 'Low' THEN 1\n",
        "                WHEN Obesity_Level_Category = 'Moderate' THEN 2\n",
        "                WHEN Obesity_Level_Category = 'High' THEN 3\n",
        "                WHEN Obesity_Level_Category = 'Very High' THEN 4\n",
        "            END,\n",
        "            age_group;\n",
        "        \"\"\"\n",
        "\n",
        "        obesity_category = pd.read_sql(query, conn)\n",
        "\n",
        "        st.write(\"🏳️ Country Count by Obesity Level Category and Age Group (2022):\")\n",
        "        st.dataframe(obesity_category)\n",
        "        plt.figure(figsize=(8,5))\n",
        "        for group in obesity_category['age_group'].unique():\n",
        "            subset = obesity_category[obesity_category['age_group'] == group]\n",
        "            plt.bar(subset['Obesity_Level_Category'], subset['Country_Count'], label=group)\n",
        "\n",
        "        plt.title('Country Count by Obesity Level Category and Age Group (2022)')\n",
        "        plt.xlabel('Obesity Level Category')\n",
        "        plt.ylabel('Number of Countries')\n",
        "        plt.legend(title='Age Group')\n",
        "        plt.grid(axis='y', linestyle='--', alpha=0.6)\n",
        "        st.pyplot(plt)\n",
        "\n",
        "        conn.close()\n",
        "\n",
        "\n",
        "    if option == '6.Top 5 countries least reliable countries(with highest CI_Width) and Top 5 most consistent countries (smallest average CI_Width)':\n",
        "        conn = sqlite3.connect('health_data.db')\n",
        "\n",
        "        query_least_reliable = \"\"\"\n",
        "        SELECT\n",
        "            Country,\n",
        "            ROUND(AVG(CI_Width), 3) AS Avg_CI_Width\n",
        "        FROM obesity\n",
        "        GROUP BY Country\n",
        "        ORDER BY Avg_CI_Width DESC\n",
        "        LIMIT 5;\n",
        "        \"\"\"\n",
        "\n",
        "        least_reliable = pd.read_sql(query_least_reliable, conn)\n",
        "\n",
        "        # Top 5 most consistent (lowest CI_Width)\n",
        "        query_most_consistent = \"\"\"\n",
        "        SELECT\n",
        "            Country,\n",
        "            ROUND(AVG(CI_Width), 3) AS Avg_CI_Width\n",
        "        FROM obesity\n",
        "        GROUP BY Country\n",
        "        ORDER BY Avg_CI_Width ASC\n",
        "        LIMIT 5;\n",
        "        \"\"\"\n",
        "\n",
        "        most_consistent = pd.read_sql(query_most_consistent, conn)\n",
        "\n",
        "        st.write(\"⚠️ Top 5 Least Reliable Countries (Highest Average CI_Width):\")\n",
        "        st.dataframe(least_reliable)\n",
        "        st.write(\"✅ Top 5 Most Consistent Countries (Lowest Average CI_Width):\")\n",
        "        st.dataframe(most_consistent)\n",
        "\n",
        "        conn.close()\n",
        "\n",
        "\n",
        "    if option == '7.Average obesity by age group':\n",
        "        conn = sqlite3.connect('health_data.db')\n",
        "        query = \"\"\"\n",
        "        SELECT\n",
        "            age_group,\n",
        "            ROUND(AVG(Mean_Estimate), 2) AS Avg_Obesity_Level\n",
        "        FROM obesity\n",
        "        GROUP BY age_group\n",
        "        ORDER BY Avg_Obesity_Level DESC;\n",
        "        \"\"\"\n",
        "\n",
        "        age_obesity = pd.read_sql(query, conn)\n",
        "\n",
        "        plt.figure(figsize=(6, 4))\n",
        "        plt.bar(age_obesity['age_group'], age_obesity['Avg_Obesity_Level'], color=['lightcoral', 'skyblue'])\n",
        "        plt.title('Average Obesity by Age Group', fontsize=14)\n",
        "        plt.xlabel('Age Group')\n",
        "        plt.ylabel('Average Obesity Level (%)')\n",
        "        plt.grid(axis='y', linestyle='--', alpha=0.6)\n",
        "        st.pyplot(plt)\n",
        "\n",
        "        conn.close()\n",
        "    if option == '8.Top 10 Countries with consistent low obesity (low average + low CI)over the years':\n",
        "        conn = sqlite3.connect('health_data.db')\n",
        "\n",
        "        # Query top 10 countries with consistently low obesity & low CI_Width\n",
        "        query = \"\"\"\n",
        "        SELECT\n",
        "            Country,\n",
        "            ROUND(AVG(Mean_Estimate), 2) AS Avg_Obesity_Level,\n",
        "            ROUND(AVG(CI_Width), 3) AS Avg_CI_Width\n",
        "        FROM obesity\n",
        "        GROUP BY Country\n",
        "        HAVING Avg_Obesity_Level IS NOT NULL\n",
        "        ORDER BY Avg_Obesity_Level ASC, Avg_CI_Width ASC\n",
        "        LIMIT 10;\n",
        "        \"\"\"\n",
        "\n",
        "        consistent_low_obesity = pd.read_sql(query, conn)\n",
        "\n",
        "        st.write(\"🌿 Top 10 Countries with Consistent Low Obesity and High Data Reliability:\")\n",
        "        st.dataframe(consistent_low_obesity)\n",
        "\n",
        "        # Visualization\n",
        "        plt.figure(figsize=(8,5))\n",
        "        plt.scatter(\n",
        "            consistent_low_obesity['Avg_Obesity_Level'],\n",
        "            consistent_low_obesity['Avg_CI_Width'],\n",
        "            color='mediumseagreen',\n",
        "            s=80\n",
        "        )\n",
        "        for i, row in consistent_low_obesity.iterrows():\n",
        "            plt.text(row['Avg_Obesity_Level']+0.1, row['Avg_CI_Width']+0.001, row['Country'], fontsize=9)\n",
        "\n",
        "        plt.title('Top 10 Consistently Low-Obesity Countries (Low Mean + Low CI)', fontsize=13)\n",
        "        plt.xlabel('Average Obesity Level (%)')\n",
        "        plt.ylabel('Average CI Width')\n",
        "        plt.grid(True, linestyle='--', alpha=0.6)\n",
        "        st.pyplot(plt)\n",
        "\n",
        "        conn.close()\n",
        "\n",
        "    if option == '9.Countries where female obesity exceeds male by large margin (same       year)':\n",
        "        conn = sqlite3.connect('health_data.db')\n",
        "\n",
        "        query = \"\"\"\n",
        "        SELECT\n",
        "            f.Country,\n",
        "            f.Year,\n",
        "            ROUND(f.Mean_Estimate, 2) AS Female_Obesity,\n",
        "            ROUND(m.Mean_Estimate, 2) AS Male_Obesity,\n",
        "            ROUND(f.Mean_Estimate - m.Mean_Estimate, 2) AS Difference\n",
        "        FROM obesity f\n",
        "        JOIN obesity m\n",
        "            ON f.Country = m.Country\n",
        "            AND f.Year = m.Year\n",
        "        WHERE f.Gender LIKE '%FMLE%'\n",
        "          AND m.Gender LIKE '%MLE%'\n",
        "          AND (f.Mean_Estimate - m.Mean_Estimate) > 5\n",
        "        ORDER BY Difference DESC\n",
        "        LIMIT 10;\n",
        "        \"\"\"\n",
        "\n",
        "        gender_gap = pd.read_sql(query, conn)\n",
        "\n",
        "        st.write(\"💃 Countries Where Female Obesity Exceeds Male by Large Margin:\")\n",
        "        st.dataframe(gender_gap)\n",
        "\n",
        "        conn.close()\n",
        "\n",
        "    if option == '10.Global average obesity percentage per year':\n",
        "        conn = sqlite3.connect('health_data.db')\n",
        "\n",
        "        # Query global average obesity per year\n",
        "        query = \"\"\"\n",
        "        SELECT\n",
        "            Year,\n",
        "            ROUND(AVG(Mean_Estimate), 2) AS Global_Avg_Obesity\n",
        "        FROM obesity\n",
        "        GROUP BY Year\n",
        "        ORDER BY Year ASC;\n",
        "        \"\"\"\n",
        "\n",
        "        global_trend = pd.read_sql(query, conn)\n",
        "\n",
        "        st.write(\"🌍 Global Average Obesity Percentage Per Year:\")\n",
        "        st.dataframe(global_trend)\n",
        "\n",
        "        # Plot trend\n",
        "        plt.figure(figsize=(8,5))\n",
        "        plt.plot(global_trend['Year'], global_trend['Global_Avg_Obesity'], marker='o', color='mediumblue')\n",
        "        plt.title('Global Average Obesity Percentage Per Year', fontsize=14)\n",
        "        plt.xlabel('Year')\n",
        "        plt.ylabel('Average Obesity (%)')\n",
        "        plt.grid(True)\n",
        "        st.pyplot(plt)\n",
        "\n",
        "        conn.close()\n",
        "\n",
        "\n",
        "    if option == '11.Avg. malnutrition by age group':\n",
        "        conn = sqlite3.connect('health_data.db')\n",
        "\n",
        "        # Query average malnutrition by age group\n",
        "        query = \"\"\"\n",
        "        SELECT\n",
        "            age_group,\n",
        "            ROUND(AVG(Mean_Estimate), 2) AS Avg_Malnutrition\n",
        "        FROM malnutrition\n",
        "        GROUP BY age_group\n",
        "        ORDER BY Avg_Malnutrition DESC;\n",
        "        \"\"\"\n",
        "\n",
        "        age_malnutrition = pd.read_sql(query, conn)\n",
        "\n",
        "        st.write(\"👶🧍 Average Malnutrition by Age Group:\")\n",
        "        st.dataframe(age_malnutrition)\n",
        "\n",
        "        # Plot visualization\n",
        "        plt.figure(figsize=(6,4))\n",
        "        plt.bar(age_malnutrition['age_group'], age_malnutrition['Avg_Malnutrition'], color=['orange','skyblue'])\n",
        "        plt.title('Average Malnutrition by Age Group', fontsize=14)\n",
        "        plt.xlabel('Age Group')\n",
        "        plt.ylabel('Average Malnutrition (%)')\n",
        "        plt.grid(axis='y', linestyle='--', alpha=0.6)\n",
        "        st.pyplot(plt)\n",
        "\n",
        "        conn.close()\n",
        "    if option == '12.Top 5 countries with highest malnutrition(mean_estimate)':\n",
        "        conn = sqlite3.connect('health_data.db')\n",
        "\n",
        "        # Query top 5 countries with highest malnutrition\n",
        "        query = \"\"\"\n",
        "        SELECT\n",
        "            Country,\n",
        "            ROUND(AVG(Mean_Estimate), 2) AS Avg_Malnutrition\n",
        "        FROM malnutrition\n",
        "        GROUP BY Country\n",
        "        ORDER BY Avg_Malnutrition DESC\n",
        "        LIMIT 5;\n",
        "        \"\"\"\n",
        "\n",
        "        top5_malnutrition = pd.read_sql(query, conn)\n",
        "\n",
        "        st.write(\"⚠️ Top 5 Countries with Highest Malnutrition Rates:\")\n",
        "        st.dataframe(top5_malnutrition)\n",
        "\n",
        "        conn.close()\n",
        "    if option == '13.Malnutrition trend in African region over the years':\n",
        "        conn = sqlite3.connect('health_data.db')\n",
        "\n",
        "        # Query African malnutrition trend\n",
        "        query = \"\"\"\n",
        "        SELECT\n",
        "            Year,\n",
        "            ROUND(AVG(Mean_Estimate), 2) AS Avg_Malnutrition\n",
        "        FROM malnutrition\n",
        "        WHERE Region LIKE '%Africa%'\n",
        "        GROUP BY Year\n",
        "        ORDER BY Year ASC;\n",
        "        \"\"\"\n",
        "\n",
        "        africa_trend = pd.read_sql(query, conn)\n",
        "\n",
        "        st.write(\"📊 Malnutrition Trend in African Region Over the Years:\")\n",
        "        st.dataframe(africa_trend)\n",
        "\n",
        "        # Plot trend\n",
        "        plt.figure(figsize=(8,5))\n",
        "        plt.plot(africa_trend['Year'], africa_trend['Avg_Malnutrition'], marker='o', color='orangered')\n",
        "        plt.title('Malnutrition Trend in African Region Over the Years', fontsize=14)\n",
        "        plt.xlabel('Year')\n",
        "        plt.ylabel('Average Malnutrition (%)')\n",
        "        plt.grid(True)\n",
        "        st.pyplot(plt)\n",
        "\n",
        "        conn.close()\n",
        "    if option == '14.Gender-based average malnutrition':\n",
        "        conn = sqlite3.connect('health_data.db')\n",
        "\n",
        "        # Query average malnutrition by gender\n",
        "        query = \"\"\"\n",
        "        SELECT\n",
        "            Indicator AS Gender,\n",
        "            ROUND(AVG(Mean_Estimate), 2) AS Avg_Malnutrition\n",
        "        FROM malnutrition\n",
        "        GROUP BY Indicator\n",
        "        ORDER BY Avg_Malnutrition DESC;\n",
        "        \"\"\"\n",
        "\n",
        "        gender_malnutrition = pd.read_sql(query, conn)\n",
        "\n",
        "        st.write(\"⚖️ Average Malnutrition by Gender:\")\n",
        "        st.dataframe(gender_malnutrition)\n",
        "\n",
        "        # Plot bar chart\n",
        "        plt.figure(figsize=(6,4))\n",
        "        plt.bar(gender_malnutrition['Gender'], gender_malnutrition['Avg_Malnutrition'], color=['orange','skyblue'])\n",
        "        plt.title('Average Malnutrition by Gender', fontsize=14)\n",
        "        plt.xlabel('Gender')\n",
        "        plt.ylabel('Average Malnutrition (%)')\n",
        "        plt.grid(axis='y', linestyle='--', alpha=0.6)\n",
        "        st.pyplot(plt)\n",
        "\n",
        "        conn.close()\n",
        "    if option == '15.Malnutrition level-wise (average CI_Width by age group)':\n",
        "        conn = sqlite3.connect('health_data.db')\n",
        "\n",
        "        # Query average CI_Width by age group\n",
        "        query = \"\"\"\n",
        "        SELECT\n",
        "            age_group,\n",
        "            ROUND(AVG(CI_Width), 3) AS Avg_CI_Width\n",
        "        FROM malnutrition\n",
        "        GROUP BY age_group\n",
        "        ORDER BY Avg_CI_Width ASC;\n",
        "        \"\"\"\n",
        "\n",
        "        ci_by_age = pd.read_sql(query, conn)\n",
        "\n",
        "        st.write(\"📏 Average CI_Width by Age Group (Malnutrition):\")\n",
        "        st.dataframe(ci_by_age)\n",
        "\n",
        "        # Plot\n",
        "        plt.figure(figsize=(6,4))\n",
        "        plt.bar(ci_by_age['age_group'], ci_by_age['Avg_CI_Width'], color=['lightgreen','salmon'])\n",
        "        plt.title('Average CI_Width by Age Group (Malnutrition)', fontsize=14)\n",
        "        plt.xlabel('Age Group')\n",
        "        plt.ylabel('Average CI Width')\n",
        "        plt.grid(axis='y', linestyle='--', alpha=0.6)\n",
        "        st.pyplot(plt)\n",
        "\n",
        "        conn.close()\n",
        "    if option == '16.Yearly malnutrition change in specific countries(India, Nigeria, Brazil)':\n",
        "        conn = sqlite3.connect('health_data.db')\n",
        "\n",
        "        # Query yearly malnutrition for selected countries\n",
        "        query = \"\"\"\n",
        "        SELECT\n",
        "            Country,\n",
        "            Year,\n",
        "            ROUND(AVG(Mean_Estimate), 2) AS Avg_Malnutrition\n",
        "        FROM malnutrition\n",
        "        WHERE Country IN ('India', 'Nigeria', 'Brazil')\n",
        "        GROUP BY Country, Year\n",
        "        ORDER BY Country, Year ASC;\n",
        "        \"\"\"\n",
        "\n",
        "        country_trends = pd.read_sql(query, conn)\n",
        "\n",
        "        st.write(\"📊 Yearly Malnutrition Trend in India, Nigeria, and Brazil:\")\n",
        "        st.dataframe(country_trends)\n",
        "\n",
        "        # Plot trend\n",
        "        plt.figure(figsize=(8,5))\n",
        "        for country in country_trends['Country'].unique():\n",
        "            subset = country_trends[country_trends['Country'] == country]\n",
        "            plt.plot(subset['Year'], subset['Avg_Malnutrition'], marker='o', label=country)\n",
        "\n",
        "        plt.title('Yearly Malnutrition Trend in Selected Countries', fontsize=14)\n",
        "        plt.xlabel('Year')\n",
        "        plt.ylabel('Average Malnutrition (%)')\n",
        "        plt.legend()\n",
        "        plt.grid(True, linestyle='--', alpha=0.6)\n",
        "        st.pyplot(plt)\n",
        "\n",
        "        conn.close()\n",
        "    if option == '17.Regions with lowest malnutrition averages':\n",
        "        conn = sqlite3.connect('health_data.db')\n",
        "\n",
        "        # Query regions with lowest malnutrition averages\n",
        "        query = \"\"\"\n",
        "        SELECT\n",
        "            Region,\n",
        "            ROUND(AVG(Mean_Estimate), 2) AS Avg_Malnutrition\n",
        "        FROM malnutrition\n",
        "        GROUP BY Region\n",
        "        ORDER BY Avg_Malnutrition ASC\n",
        "        LIMIT 5;\n",
        "        \"\"\"\n",
        "\n",
        "        lowest_regions = pd.read_sql(query, conn)\n",
        "\n",
        "        st.write(\"🌿 Regions with Lowest Average Malnutrition:\")\n",
        "        st.dataframe(lowest_regions)\n",
        "\n",
        "        # Plot bar chart\n",
        "        plt.figure(figsize=(8,4))\n",
        "        plt.bar(lowest_regions['Region'], lowest_regions['Avg_Malnutrition'], color='lightgreen')\n",
        "        plt.title('Regions with Lowest Average Malnutrition', fontsize=14)\n",
        "        plt.xlabel('Region')\n",
        "        plt.ylabel('Average Malnutrition (%)')\n",
        "        plt.grid(axis='y', linestyle='--', alpha=0.6)\n",
        "        st.pyplot(plt)\n",
        "\n",
        "        conn.close()\n",
        "    if option == '18.Countries with increasing malnutrition (💡 Hint: Use MIN() and MAX()   on Mean_Estimate per country to compare early vs. recent malnutrition levels, and filter where the difference is positive using HAVING.)':\n",
        "        conn = sqlite3.connect('health_data.db')\n",
        "\n",
        "        query = \"\"\"\n",
        "        SELECT\n",
        "            Country,\n",
        "            ROUND(MIN(Mean_Estimate), 2) AS Min_Malnutrition,\n",
        "            ROUND(MAX(Mean_Estimate), 2) AS Max_Malnutrition,\n",
        "            ROUND(MAX(Mean_Estimate) - MIN(Mean_Estimate), 2) AS Increase\n",
        "        FROM malnutrition\n",
        "        GROUP BY Country\n",
        "        HAVING (MAX(Mean_Estimate) - MIN(Mean_Estimate)) > 0\n",
        "        ORDER BY Increase DESC\n",
        "        LIMIT 10;\n",
        "        \"\"\"\n",
        "\n",
        "        increasing_malnutrition = pd.read_sql(query, conn)\n",
        "\n",
        "        st.write(\"📈 Countries with Increasing Malnutrition Over the Years:\")\n",
        "        st.dataframe(increasing_malnutrition)\n",
        "\n",
        "        conn.close()\n",
        "    if option == '19.Min/Max malnutrition levels year-wise comparison':\n",
        "        conn = sqlite3.connect('health_data.db')\n",
        "\n",
        "        # Query year-wise min/max malnutrition\n",
        "        query = \"\"\"\n",
        "        SELECT\n",
        "            Year,\n",
        "            ROUND(MIN(Mean_Estimate), 2) AS Min_Malnutrition,\n",
        "            ROUND(MAX(Mean_Estimate), 2) AS Max_Malnutrition\n",
        "        FROM malnutrition\n",
        "        GROUP BY Year\n",
        "        ORDER BY Year ASC;\n",
        "        \"\"\"\n",
        "\n",
        "        yearly_range = pd.read_sql(query, conn)\n",
        "\n",
        "        st.write(\"📊 Year-wise Min/Max Malnutrition Levels:\")\n",
        "        st.dataframe(yearly_range)\n",
        "\n",
        "        # Plot min/max trend\n",
        "        plt.figure(figsize=(8,5))\n",
        "        plt.plot(yearly_range['Year'], yearly_range['Min_Malnutrition'], marker='o', label='Min Malnutrition', color='green')\n",
        "        plt.plot(yearly_range['Year'], yearly_range['Max_Malnutrition'], marker='o', label='Max Malnutrition', color='red')\n",
        "        plt.fill_between(yearly_range['Year'], yearly_range['Min_Malnutrition'], yearly_range['Max_Malnutrition'], color='orange', alpha=0.2)\n",
        "        plt.title('Year-wise Min/Max Malnutrition Levels', fontsize=14)\n",
        "        plt.xlabel('Year')\n",
        "        plt.ylabel('Malnutrition (%)')\n",
        "        plt.legend()\n",
        "        plt.grid(True, linestyle='--', alpha=0.6)\n",
        "        st.pyplot(plt)\n",
        "\n",
        "        conn.close()\n",
        "    if option == '20. High CI_Width flags for monitoring(CI_width > 5)':\n",
        "        conn = sqlite3.connect('health_data.db')\n",
        "\n",
        "        # Query high CI_Width records\n",
        "        query = \"\"\"\n",
        "        SELECT\n",
        "            Country,\n",
        "            Year,\n",
        "            age_group,\n",
        "            Indicator,\n",
        "            Mean_Estimate,\n",
        "            CI_Width\n",
        "        FROM malnutrition\n",
        "        WHERE CI_Width > 5\n",
        "        ORDER BY CI_Width DESC;\n",
        "        \"\"\"\n",
        "\n",
        "        high_ci_flags = pd.read_sql(query, conn)\n",
        "\n",
        "        st.write(\"⚠️ Malnutrition Records with High CI_Width (>5):\")\n",
        "        st.dataframe(high_ci_flags.head(20))  # show top 20 records for monitoring\n",
        "\n",
        "        conn.close()\n",
        "    if option == '21.Obesity vs malnutrition comparison by country(any 5 countries)':\n",
        "        conn = sqlite3.connect('health_data.db')\n",
        "\n",
        "        # Query average obesity vs malnutrition for selected countries\n",
        "        query = \"\"\"\n",
        "        SELECT\n",
        "            o.Country,\n",
        "            ROUND(AVG(o.Mean_Estimate), 2) AS Avg_Obesity,\n",
        "            ROUND(AVG(m.Mean_Estimate), 2) AS Avg_Malnutrition\n",
        "        FROM obesity o\n",
        "        JOIN malnutrition m\n",
        "            ON o.Country = m.Country\n",
        "        WHERE o.Country IN ('India','Nigeria','Brazil','USA','China')\n",
        "        GROUP BY o.Country\n",
        "        ORDER BY o.Country;\n",
        "        \"\"\"\n",
        "\n",
        "        comparison = pd.read_sql(query, conn)\n",
        "\n",
        "        st.write(\"🔗 Obesity vs Malnutrition Comparison (Selected Countries):\")\n",
        "        st.dataframe(comparison)\n",
        "\n",
        "        # Plot comparison\n",
        "        plt.figure(figsize=(8,5))\n",
        "        bar_width = 0.35\n",
        "        countries = comparison['Country']\n",
        "        index = range(len(countries))\n",
        "\n",
        "        plt.bar(index, comparison['Avg_Obesity'], bar_width, label='Obesity', color='salmon')\n",
        "        plt.bar([i + bar_width for i in index], comparison['Avg_Malnutrition'], bar_width, label='Malnutrition', color='skyblue')\n",
        "\n",
        "        plt.xlabel('Country')\n",
        "        plt.ylabel('Average Percentage (%)')\n",
        "        plt.title('Obesity vs Malnutrition Comparison')\n",
        "        plt.xticks([i + bar_width/2 for i in index], countries)\n",
        "        plt.legend()\n",
        "        plt.grid(axis='y', linestyle='--', alpha=0.6)\n",
        "        st.pyplot(plt)\n",
        "\n",
        "        conn.close()\n",
        "    if option == '22.Gender-based disparity in both obesity and malnutrition':\n",
        "        conn = sqlite3.connect('health_data.db')\n",
        "\n",
        "        # Obesity by gender\n",
        "        query_obesity = \"\"\"\n",
        "        SELECT\n",
        "            Gender AS Gender,\n",
        "            ROUND(AVG(Mean_Estimate), 2) AS Avg_Obesity\n",
        "        FROM obesity\n",
        "        GROUP BY Gender;\n",
        "        \"\"\"\n",
        "        obesity_gender = pd.read_sql(query_obesity, conn)\n",
        "\n",
        "        # Malnutrition by gender\n",
        "        query_malnutrition = \"\"\"\n",
        "        SELECT\n",
        "            Indicator AS Gender,\n",
        "            ROUND(AVG(Mean_Estimate), 2) AS Avg_Malnutrition\n",
        "        FROM malnutrition\n",
        "        GROUP BY Indicator;\n",
        "        \"\"\"\n",
        "        malnutrition_gender = pd.read_sql(query_malnutrition, conn)\n",
        "\n",
        "        # Merge for comparison\n",
        "        gender_comparison = pd.merge(obesity_gender, malnutrition_gender, on='Gender', how='outer')\n",
        "        st.write(\"⚖️ Gender-Based Disparity in Obesity and Malnutrition:\")\n",
        "        st.dataframe(gender_comparison)\n",
        "\n",
        "        # Plot comparison\n",
        "        plt.figure(figsize=(8,5))\n",
        "        bar_width = 0.35\n",
        "        genders = gender_comparison['Gender']\n",
        "        index = range(len(genders))\n",
        "\n",
        "        plt.bar(index, gender_comparison['Avg_Obesity'], bar_width, label='Obesity', color='salmon')\n",
        "        plt.bar([i + bar_width for i in index], gender_comparison['Avg_Malnutrition'], bar_width, label='Malnutrition', color='skyblue')\n",
        "\n",
        "        plt.xlabel('Gender')\n",
        "        plt.ylabel('Average Percentage (%)')\n",
        "        plt.title('Gender-Based Disparity: Obesity vs Malnutrition')\n",
        "        plt.xticks([i + bar_width/2 for i in index], genders)\n",
        "        plt.legend()\n",
        "        plt.grid(axis='y', linestyle='--', alpha=0.6)\n",
        "        st.pyplot(plt)\n",
        "\n",
        "        conn.close()\n",
        "    if option == '23.Region-wise avg estimates side-by-side(Africa and America)':\n",
        "        conn = sqlite3.connect('health_data.db')\n",
        "\n",
        "        # Obesity averages for Africa and Americas\n",
        "        query_obesity = \"\"\"\n",
        "        SELECT\n",
        "            Region,\n",
        "            ROUND(AVG(Mean_Estimate), 2) AS Avg_Obesity\n",
        "        FROM obesity\n",
        "        WHERE Region IN ('Africa', 'Americas')\n",
        "        GROUP BY Region;\n",
        "        \"\"\"\n",
        "        obesity_region = pd.read_sql(query_obesity, conn)\n",
        "\n",
        "        # Malnutrition averages for Africa and Americas\n",
        "        query_malnutrition = \"\"\"\n",
        "        SELECT\n",
        "            Region,\n",
        "            ROUND(AVG(Mean_Estimate), 2) AS Avg_Malnutrition\n",
        "        FROM malnutrition\n",
        "        WHERE Region IN ('Africa', 'Americas')\n",
        "        GROUP BY Region;\n",
        "        \"\"\"\n",
        "        malnutrition_region = pd.read_sql(query_malnutrition, conn)\n",
        "\n",
        "        # Merge for side-by-side comparison\n",
        "        region_comparison = pd.merge(obesity_region, malnutrition_region, on='Region')\n",
        "        st.write(\"🌍 Region-Wise Average Estimates: Obesity vs Malnutrition\")\n",
        "        st.dataframe(region_comparison)\n",
        "\n",
        "        # Plot comparison\n",
        "        plt.figure(figsize=(6,5))\n",
        "        bar_width = 0.35\n",
        "        regions = region_comparison['Region']\n",
        "        index = range(len(regions))\n",
        "\n",
        "        plt.bar(index, region_comparison['Avg_Obesity'], bar_width, label='Obesity', color='salmon')\n",
        "        plt.bar([i + bar_width for i in index], region_comparison['Avg_Malnutrition'], bar_width, label='Malnutrition', color='skyblue')\n",
        "\n",
        "        plt.xlabel('Region')\n",
        "        plt.ylabel('Average Percentage (%)')\n",
        "        plt.title('Region-Wise Average Estimates: Obesity vs Malnutrition')\n",
        "        plt.xticks([i + bar_width/2 for i in index], regions)\n",
        "        plt.legend()\n",
        "        plt.grid(axis='y', linestyle='--', alpha=0.6)\n",
        "        st.pyplot(plt)\n",
        "\n",
        "        conn.close()\n",
        "    if option == '24.Countries with obesity up & malnutrition down':\n",
        "        conn = sqlite3.connect('health_data.db')\n",
        "\n",
        "        query = \"\"\"\n",
        "        WITH ObesityTrend AS (\n",
        "            SELECT\n",
        "                Country,\n",
        "                MAX(Mean_Estimate) - MIN(Mean_Estimate) AS Obesity_Change\n",
        "            FROM obesity\n",
        "            GROUP BY Country\n",
        "        ),\n",
        "        MalnutritionTrend AS (\n",
        "            SELECT\n",
        "                Country,\n",
        "                MAX(Mean_Estimate) - MIN(Mean_Estimate) AS Malnutrition_Change\n",
        "            FROM malnutrition\n",
        "            GROUP BY Country\n",
        "        )\n",
        "        SELECT\n",
        "            o.Country,\n",
        "            ROUND(o.Obesity_Change, 2) AS Obesity_Change,\n",
        "            ROUND(m.Malnutrition_Change, 2) AS Malnutrition_Change\n",
        "        FROM ObesityTrend o\n",
        "        JOIN MalnutritionTrend m\n",
        "            ON o.Country = m.Country\n",
        "        WHERE o.Obesity_Change > 0 AND m.Malnutrition_Change < 0\n",
        "        ORDER BY o.Obesity_Change DESC\n",
        "        LIMIT 10;\n",
        "        \"\"\"\n",
        "\n",
        "        trend_comparison = pd.read_sql(query, conn)\n",
        "        st.write(\"📈 Countries with Increasing Obesity & Decreasing Malnutrition:\")\n",
        "        st.dataframe(trend_comparison)\n",
        "\n",
        "        conn.close()\n",
        "    if option == '25.Age-wise trend analysis':\n",
        "        conn = sqlite3.connect('health_data.db')\n",
        "\n",
        "        # Obesity age-wise trend\n",
        "        query_obesity = \"\"\"\n",
        "        SELECT\n",
        "            age_group,\n",
        "            Year,\n",
        "            ROUND(AVG(Mean_Estimate), 2) AS Avg_Obesity\n",
        "        FROM obesity\n",
        "        GROUP BY age_group, Year\n",
        "        ORDER BY age_group, Year;\n",
        "        \"\"\"\n",
        "        obesity_age_trend = pd.read_sql(query_obesity, conn)\n",
        "\n",
        "        # Malnutrition age-wise trend\n",
        "        query_malnutrition = \"\"\"\n",
        "        SELECT\n",
        "            age_group,\n",
        "            Year,\n",
        "            ROUND(AVG(Mean_Estimate), 2) AS Avg_Malnutrition\n",
        "        FROM malnutrition\n",
        "        GROUP BY age_group, Year\n",
        "        ORDER BY age_group, Year;\n",
        "        \"\"\"\n",
        "        malnutrition_age_trend = pd.read_sql(query_malnutrition, conn)\n",
        "\n",
        "        # Plot Obesity Trend\n",
        "        plt.figure(figsize=(8,5))\n",
        "        for age_group in obesity_age_trend['age_group'].unique():\n",
        "            subset = obesity_age_trend[obesity_age_trend['age_group'] == age_group]\n",
        "            plt.plot(subset['Year'], subset['Avg_Obesity'], marker='o', label=f'Obesity - {age_group}')\n",
        "\n",
        "        # Plot Malnutrition Trend\n",
        "        for age_group in malnutrition_age_trend['age_group'].unique():\n",
        "            subset = malnutrition_age_trend[malnutrition_age_trend['age_group'] == age_group]\n",
        "            plt.plot(subset['Year'], subset['Avg_Malnutrition'], marker='x', linestyle='--', label=f'Malnutrition - {age_group}')\n",
        "\n",
        "        plt.title('Age-Wise Trend Analysis: Obesity vs Malnutrition', fontsize=14)\n",
        "        plt.xlabel('Year')\n",
        "        plt.ylabel('Average Percentage (%)')\n",
        "        plt.legend()\n",
        "        plt.grid(True, linestyle='--', alpha=0.6)\n",
        "        st.pyplot(plt)\n",
        "\n",
        "        conn.close()\n",
        "    elif option == 'explain one more time':\n",
        "        pass"
      ]
    },
    {
      "cell_type": "code",
      "source": [
        "# @title Setup code\n",
        "!pip install -q streamlit\n",
        "!wget https://github.com/cloudflare/cloudflared/releases/latest/download/cloudflared-linux-amd64\n",
        "!chmod +x cloudflared-linux-amd64\n",
        "import subprocess\n",
        "subprocess.Popen([\"./cloudflared-linux-amd64\", \"tunnel\", \"--url\", \"http://localhost:8501\"])\n",
        "!nohup /content/cloudflared-linux-amd64 tunnel --url http://localhost:8501 &"
      ],
      "metadata": {
        "id": "tDGmRkCTPzT_"
      },
      "execution_count": null,
      "outputs": []
    },
    {
      "cell_type": "code",
      "execution_count": null,
      "metadata": {
        "id": "x9V4UaMd1UFV"
      },
      "outputs": [],
      "source": [
        "!streamlit run /content/app.py &>/content/logs.txt &"
      ]
    },
    {
      "cell_type": "code",
      "source": [
        "!grep -o 'https://.*\\.trycloudflare.com' nohup.out | head -n 1 | xargs -I {} echo \"Your tunnel url {}\""
      ],
      "metadata": {
        "id": "GnPnuIwGQD_a"
      },
      "execution_count": null,
      "outputs": []
    }
  ],
  "metadata": {
    "colab": {
      "provenance": [],
      "authorship_tag": "ABX9TyPcK1izjxczAuMMsAFKcTj9",
      "include_colab_link": true
    },
    "kernelspec": {
      "display_name": "Python 3",
      "name": "python3"
    },
    "language_info": {
      "name": "python"
    }
  },
  "nbformat": 4,
  "nbformat_minor": 0
}